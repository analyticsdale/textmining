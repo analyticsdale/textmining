{
 "cells": [
  {
   "cell_type": "code",
   "execution_count": 1,
   "metadata": {
    "collapsed": false
   },
   "outputs": [],
   "source": [
    "#I'm not sure if all of these need to be included but I am importing them all just to be safe.\n",
    "from __future__ import division\n",
    "import pandas as pd\n",
    "import numpy as np\n",
    "from nltk.stem.porter import PorterStemmer\n",
    "from nltk.stem.lancaster import LancasterStemmer\n",
    "from nltk.stem import SnowballStemmer\n",
    "from nltk.stem import WordNetLemmatizer\n",
    "from nltk.corpus import stopwords\n",
    "import requests\n",
    "from sklearn.feature_extraction.text import CountVectorizer\n",
    "import math\n",
    "from bs4 import BeautifulSoup\n",
    "import requests\n",
    "from nltk.corpus import stopwords\n",
    "from sklearn.feature_extraction import text\n",
    "from sklearn.feature_extraction.text import TfidfVectorizer\n",
    "import PyPDF2"
   ]
  },
  {
   "cell_type": "code",
   "execution_count": 2,
   "metadata": {
    "collapsed": false
   },
   "outputs": [
    {
     "name": "stderr",
     "output_type": "stream",
     "text": [
      "PdfReadWarning: Xref table not zero-indexed. ID numbers for objects will be corrected. [pdf.py:1736]\n"
     ]
    }
   ],
   "source": [
    "#Import all books into a list object. \n",
    "#Need to look into creating a function to do this.\n",
    "pathname = 'C:/Users/dmdal/OneDrive/Documents/TextMining/Books_for_Project/'\n",
    "\n",
    "pdf_Hemingway = open(pathname+'Hemingway_OldManSea.pdf','rb')     #'rb' for read binary mode\n",
    "pdfReader = PyPDF2.PdfFileReader(pdf_Hemingway)\n",
    "pages = pdfReader.numPages\n",
    "#print(type(pages))\n",
    "hemingway_text = []\n",
    "#print(type(hemingway_text))\n",
    "\n",
    "i = 1\n",
    "while i < pages: \n",
    "    pageObj_hemingway = pdfReader.getPage(i)\n",
    "    text= pageObj_hemingway.extractText()\n",
    "    text = [text]\n",
    "    #text = ''.join(row.findAll(text=True)) \n",
    "    #data = [str(text.strip())] \n",
    "    hemingway_text = hemingway_text + text\n",
    "    i = i+1\n",
    "    \n",
    "pdf_Faulkner = open(pathname+'Faulkner_As_I_Lay_Dying.pdf','rb')     #'rb' for read binary mode\n",
    "pdfReader = PyPDF2.PdfFileReader(pdf_Faulkner)\n",
    "pages = pdfReader.numPages\n",
    "#print(type(pages))\n",
    "faulkner_text = []\n",
    "#print(type(faulkner_text))\n",
    "\n",
    "i = 9\n",
    "while i < pages: \n",
    "    pageObj_faulkner = pdfReader.getPage(i)\n",
    "    text= pageObj_faulkner.extractText()\n",
    "    text = [text]\n",
    "    #text = ''.join(row.findAll(text=True)) \n",
    "    #data = [str(text.strip())] \n",
    "    faulkner_text = faulkner_text + text\n",
    "    i = i+1\n",
    "    \n",
    "pdf_Tolstoy = open(pathname+'Tolstoy_Death_Of_Ivan.pdf','rb')     #'rb' for read binary mode\n",
    "pdfReader = PyPDF2.PdfFileReader(pdf_Tolstoy)\n",
    "pages = pdfReader.numPages\n",
    "#print(type(pages))\n",
    "tolstoy_text = []\n",
    "#print(type(tolstoy_text))\n",
    "\n",
    "i = 1\n",
    "while i < pages: \n",
    "    pageObj_tolstoy = pdfReader.getPage(i)\n",
    "    text= pageObj_tolstoy.extractText()\n",
    "    text = [text]\n",
    "    #text = ''.join(row.findAll(text=True)) \n",
    "    #data = [str(text.strip())] \n",
    "    tolstoy_text = tolstoy_text + text\n",
    "    i = i+1\n",
    "    \n",
    "pdf_Hemingway2 = open(pathname+'Hemingway_TheSunAlsoRises.pdf','rb')     #'rb' for read binary mode\n",
    "pdfReader = PyPDF2.PdfFileReader(pdf_Hemingway2)\n",
    "pages = pdfReader.numPages\n",
    "#print(type(pages))\n",
    "hemingway_text2 = []\n",
    "#print(type(hemingway_text2))\n",
    "\n",
    "i = 3\n",
    "while i < pages: \n",
    "    pageObj_hemingway = pdfReader.getPage(i)\n",
    "    text= pageObj_hemingway.extractText()\n",
    "    text = [text]\n",
    "    #text = ''.join(row.findAll(text=True)) \n",
    "    #data = [str(text.strip())] \n",
    "    hemingway_text2 = hemingway_text2 + text\n",
    "    i = i+1\n",
    "    \n",
    "pdf_Faulkner2 = open(pathname+'Faulkner_light_in_august.pdf','rb')     #'rb' for read binary mode\n",
    "pdfReader = PyPDF2.PdfFileReader(pdf_Faulkner2)\n",
    "pages = pdfReader.numPages\n",
    "#print(type(pages))\n",
    "faulkner_text2 = []\n",
    "#print(type(faulkner_text2))\n",
    "\n",
    "i = 5\n",
    "while i < pages: \n",
    "    pageObj_faulkner = pdfReader.getPage(i)\n",
    "    text= pageObj_faulkner.extractText()\n",
    "    text = [text]\n",
    "    #text = ''.join(row.findAll(text=True)) \n",
    "    #data = [str(text.strip())] \n",
    "    faulkner_text2 = faulkner_text2 + text\n",
    "    i = i+1\n",
    "    \n",
    "pdf_Tolstoy2 = open(pathname+'Tolstoy_Master_and_Man.pdf','rb')     #'rb' for read binary mode\n",
    "pdfReader = PyPDF2.PdfFileReader(pdf_Tolstoy2)\n",
    "pages = pdfReader.numPages\n",
    "#print(type(pages))\n",
    "tolstoy_text2 = []\n",
    "#print(type(tolstoy_text2))\n",
    "\n",
    "i = 2\n",
    "while i < pages: \n",
    "    pageObj_tolstoy = pdfReader.getPage(i)\n",
    "    text= pageObj_tolstoy.extractText()\n",
    "    text = [text]\n",
    "    #text = ''.join(row.findAll(text=True)) \n",
    "    #data = [str(text.strip())] \n",
    "    tolstoy_text2 = tolstoy_text2 + text\n",
    "    i = i+1\n",
    "    \n",
    "pdf_Austen = open(pathname+'Austen_Persuasion.pdf','rb')     #'rb' for read binary mode\n",
    "pdfReader = PyPDF2.PdfFileReader(pdf_Austen)\n",
    "pages = pdfReader.numPages\n",
    "#print(type(pages))\n",
    "austen_text = []\n",
    "#print(type(austen_text))\n",
    "\n",
    "i = 3\n",
    "while i < pages: \n",
    "    pageObj_austen = pdfReader.getPage(i)\n",
    "    text= pageObj_austen.extractText()\n",
    "    text = [text]\n",
    "    #text = ''.join(row.findAll(text=True)) \n",
    "    #data = [str(text.strip())] \n",
    "    austen_text = austen_text + text\n",
    "    i = i+1\n",
    "    \n",
    "pdf_Austen2 = open(pathname+'Austen_Pride_Prejudice.pdf','rb')     #'rb' for read binary mode\n",
    "pdfReader = PyPDF2.PdfFileReader(pdf_Austen2)\n",
    "pages = pdfReader.numPages\n",
    "#print(type(pages))\n",
    "austen_text2 = []\n",
    "#print(type(austen_text2))\n",
    "\n",
    "i = 3\n",
    "while i < pages: \n",
    "    pageObj_austen = pdfReader.getPage(i)\n",
    "    text= pageObj_austen.extractText()\n",
    "    text = [text]\n",
    "    #text = ''.join(row.findAll(text=True)) \n",
    "    #data = [str(text.strip())] \n",
    "    austen_text2 = austen_text2 + text\n",
    "    i = i+1\n",
    "\n",
    "pdf_Tolstoy3 = open(pathname+'Tolstoy_on_Shakespeare.pdf','rb')     #'rb' for read binary mode\n",
    "pdfReader = PyPDF2.PdfFileReader(pdf_Tolstoy3)\n",
    "pages = pdfReader.numPages\n",
    "#print(type(pages))\n",
    "tolstoy_text3 = []\n",
    "#print(type(tolstoy_text3))\n",
    "\n",
    "i = 3\n",
    "while i < pages: \n",
    "    pageObj_tolstoy = pdfReader.getPage(i)\n",
    "    text= pageObj_tolstoy.extractText()\n",
    "    text = [text]\n",
    "    #text = ''.join(row.findAll(text=True)) \n",
    "    #data = [str(text.strip())] \n",
    "    tolstoy_text3 = tolstoy_text3 + text\n",
    "    i = i+1\n",
    "\n"
   ]
  },
  {
   "cell_type": "code",
   "execution_count": 3,
   "metadata": {
    "collapsed": true
   },
   "outputs": [],
   "source": [
    "#Turn each list object into a dataframe.\n",
    "hemingway_df = pd.DataFrame(hemingway_text)\n",
    "faulkner_df = pd.DataFrame(faulkner_text)\n",
    "tolstoy_df = pd.DataFrame(tolstoy_text)\n",
    "hemingway_df2 = pd.DataFrame(hemingway_text2)\n",
    "faulkner_df2 = pd.DataFrame(faulkner_text2)\n",
    "tolstoy_df2 = pd.DataFrame(tolstoy_text2)\n",
    "austen_df = pd.DataFrame(austen_text)\n",
    "austen_df2 = pd.DataFrame(austen_text2)\n",
    "tolstoy_df3 = pd.DataFrame(tolstoy_text3)\n",
    "\n",
    "#Confirm text has been brought in\n",
    "#print(hemingway_df[0:5])\n",
    "#print(faulkner_df[14])\n",
    "#print(tolstoy_df[14])"
   ]
  },
  {
   "cell_type": "code",
   "execution_count": 4,
   "metadata": {
    "collapsed": true
   },
   "outputs": [],
   "source": [
    "#print(hemingway_df.shape)\n",
    "#print(faulkner_df.shape)\n",
    "#print(tolstoy_df.shape)\n",
    "#print(austen_df.shape)\n",
    "#print(hemingway_df2.shape)\n",
    "#print(faulkner_df2.shape)\n",
    "#print(tolstoy_df2.shape)\n",
    "#print(austen_df2.shape)\n",
    "#print(tolstoy_df3.shape)\n",
    "\n",
    "hemingway_df['Author']= 'Hemingway'\n",
    "#print(hemingway_df.head)\n",
    "faulkner_df['Author']= 'Faulkner'\n",
    "#print(faulkner_df.head)\n",
    "tolstoy_df['Author']= 'Tolstoy'\n",
    "#print(faulkner_df.head)\n",
    "hemingway_df2['Author']= 'Hemingway'\n",
    "#print(hemingway_df.head)\n",
    "faulkner_df2['Author']= 'Faulkner'\n",
    "#print(faulkner_df.head)\n",
    "tolstoy_df2['Author']= 'Tolstoy'\n",
    "#print(faulkner_df.head)\n",
    "austen_df['Author']= 'Austen'\n",
    "#print(faulkner_df.head)\n",
    "austen_df2['Author']= 'Austen'\n",
    "#print(faulkner_df.head)\n",
    "tolstoy_df3['Author']= 'Tolstoy'\n",
    "#print(faulkner_df.head)"
   ]
  },
  {
   "cell_type": "code",
   "execution_count": 5,
   "metadata": {
    "collapsed": true
   },
   "outputs": [],
   "source": [
    "#Combine books\n",
    "#hemingway_df,hemingway_df2,\n",
    "books = [ faulkner_df, tolstoy_df, austen_df, faulkner_df2, tolstoy_df2, austen_df2, tolstoy_df3]\n",
    "complete_set = pd.concat(books)\n",
    "#print(complete_set.shape)\n",
    "list(complete_set)\n",
    "complete_set['OrigText'] = complete_set[0]\n",
    "#print(complete_set.shape)"
   ]
  },
  {
   "cell_type": "code",
   "execution_count": 32,
   "metadata": {
    "collapsed": false
   },
   "outputs": [
    {
     "ename": "KeyError",
     "evalue": "1",
     "output_type": "error",
     "traceback": [
      "\u001b[0;31m---------------------------------------------------------------------------\u001b[0m",
      "\u001b[0;31mKeyError\u001b[0m                                  Traceback (most recent call last)",
      "\u001b[0;32mC:\\Users\\dmdal\\Anaconda3\\lib\\site-packages\\pandas\\indexes\\base.py\u001b[0m in \u001b[0;36mget_loc\u001b[0;34m(self, key, method, tolerance)\u001b[0m\n\u001b[1;32m   1944\u001b[0m             \u001b[1;32mtry\u001b[0m\u001b[1;33m:\u001b[0m\u001b[1;33m\u001b[0m\u001b[0m\n\u001b[0;32m-> 1945\u001b[0;31m                 \u001b[1;32mreturn\u001b[0m \u001b[0mself\u001b[0m\u001b[1;33m.\u001b[0m\u001b[0m_engine\u001b[0m\u001b[1;33m.\u001b[0m\u001b[0mget_loc\u001b[0m\u001b[1;33m(\u001b[0m\u001b[0mkey\u001b[0m\u001b[1;33m)\u001b[0m\u001b[1;33m\u001b[0m\u001b[0m\n\u001b[0m\u001b[1;32m   1946\u001b[0m             \u001b[1;32mexcept\u001b[0m \u001b[0mKeyError\u001b[0m\u001b[1;33m:\u001b[0m\u001b[1;33m\u001b[0m\u001b[0m\n",
      "\u001b[0;32mpandas\\index.pyx\u001b[0m in \u001b[0;36mpandas.index.IndexEngine.get_loc (pandas\\index.c:4154)\u001b[0;34m()\u001b[0m\n",
      "\u001b[0;32mpandas\\index.pyx\u001b[0m in \u001b[0;36mpandas.index.IndexEngine.get_loc (pandas\\index.c:4018)\u001b[0;34m()\u001b[0m\n",
      "\u001b[0;32mpandas\\hashtable.pyx\u001b[0m in \u001b[0;36mpandas.hashtable.PyObjectHashTable.get_item (pandas\\hashtable.c:12368)\u001b[0;34m()\u001b[0m\n",
      "\u001b[0;32mpandas\\hashtable.pyx\u001b[0m in \u001b[0;36mpandas.hashtable.PyObjectHashTable.get_item (pandas\\hashtable.c:12322)\u001b[0;34m()\u001b[0m\n",
      "\u001b[0;31mKeyError\u001b[0m: 1",
      "\nDuring handling of the above exception, another exception occurred:\n",
      "\u001b[0;31mKeyError\u001b[0m                                  Traceback (most recent call last)",
      "\u001b[0;32m<ipython-input-32-fa9ced4cea34>\u001b[0m in \u001b[0;36m<module>\u001b[0;34m()\u001b[0m\n\u001b[1;32m     13\u001b[0m \u001b[1;33m\u001b[0m\u001b[0m\n\u001b[1;32m     14\u001b[0m \u001b[1;31m#print(names)\u001b[0m\u001b[1;33m\u001b[0m\u001b[1;33m\u001b[0m\u001b[0m\n\u001b[0;32m---> 15\u001b[0;31m \u001b[0mcomplete_set\u001b[0m\u001b[1;33m[\u001b[0m\u001b[1;36m1\u001b[0m\u001b[1;33m]\u001b[0m\u001b[1;33m\u001b[0m\u001b[0m\n\u001b[0m",
      "\u001b[0;32mC:\\Users\\dmdal\\Anaconda3\\lib\\site-packages\\pandas\\core\\frame.py\u001b[0m in \u001b[0;36m__getitem__\u001b[0;34m(self, key)\u001b[0m\n\u001b[1;32m   1995\u001b[0m             \u001b[1;32mreturn\u001b[0m \u001b[0mself\u001b[0m\u001b[1;33m.\u001b[0m\u001b[0m_getitem_multilevel\u001b[0m\u001b[1;33m(\u001b[0m\u001b[0mkey\u001b[0m\u001b[1;33m)\u001b[0m\u001b[1;33m\u001b[0m\u001b[0m\n\u001b[1;32m   1996\u001b[0m         \u001b[1;32melse\u001b[0m\u001b[1;33m:\u001b[0m\u001b[1;33m\u001b[0m\u001b[0m\n\u001b[0;32m-> 1997\u001b[0;31m             \u001b[1;32mreturn\u001b[0m \u001b[0mself\u001b[0m\u001b[1;33m.\u001b[0m\u001b[0m_getitem_column\u001b[0m\u001b[1;33m(\u001b[0m\u001b[0mkey\u001b[0m\u001b[1;33m)\u001b[0m\u001b[1;33m\u001b[0m\u001b[0m\n\u001b[0m\u001b[1;32m   1998\u001b[0m \u001b[1;33m\u001b[0m\u001b[0m\n\u001b[1;32m   1999\u001b[0m     \u001b[1;32mdef\u001b[0m \u001b[0m_getitem_column\u001b[0m\u001b[1;33m(\u001b[0m\u001b[0mself\u001b[0m\u001b[1;33m,\u001b[0m \u001b[0mkey\u001b[0m\u001b[1;33m)\u001b[0m\u001b[1;33m:\u001b[0m\u001b[1;33m\u001b[0m\u001b[0m\n",
      "\u001b[0;32mC:\\Users\\dmdal\\Anaconda3\\lib\\site-packages\\pandas\\core\\frame.py\u001b[0m in \u001b[0;36m_getitem_column\u001b[0;34m(self, key)\u001b[0m\n\u001b[1;32m   2002\u001b[0m         \u001b[1;31m# get column\u001b[0m\u001b[1;33m\u001b[0m\u001b[1;33m\u001b[0m\u001b[0m\n\u001b[1;32m   2003\u001b[0m         \u001b[1;32mif\u001b[0m \u001b[0mself\u001b[0m\u001b[1;33m.\u001b[0m\u001b[0mcolumns\u001b[0m\u001b[1;33m.\u001b[0m\u001b[0mis_unique\u001b[0m\u001b[1;33m:\u001b[0m\u001b[1;33m\u001b[0m\u001b[0m\n\u001b[0;32m-> 2004\u001b[0;31m             \u001b[1;32mreturn\u001b[0m \u001b[0mself\u001b[0m\u001b[1;33m.\u001b[0m\u001b[0m_get_item_cache\u001b[0m\u001b[1;33m(\u001b[0m\u001b[0mkey\u001b[0m\u001b[1;33m)\u001b[0m\u001b[1;33m\u001b[0m\u001b[0m\n\u001b[0m\u001b[1;32m   2005\u001b[0m \u001b[1;33m\u001b[0m\u001b[0m\n\u001b[1;32m   2006\u001b[0m         \u001b[1;31m# duplicate columns & possible reduce dimensionality\u001b[0m\u001b[1;33m\u001b[0m\u001b[1;33m\u001b[0m\u001b[0m\n",
      "\u001b[0;32mC:\\Users\\dmdal\\Anaconda3\\lib\\site-packages\\pandas\\core\\generic.py\u001b[0m in \u001b[0;36m_get_item_cache\u001b[0;34m(self, item)\u001b[0m\n\u001b[1;32m   1348\u001b[0m         \u001b[0mres\u001b[0m \u001b[1;33m=\u001b[0m \u001b[0mcache\u001b[0m\u001b[1;33m.\u001b[0m\u001b[0mget\u001b[0m\u001b[1;33m(\u001b[0m\u001b[0mitem\u001b[0m\u001b[1;33m)\u001b[0m\u001b[1;33m\u001b[0m\u001b[0m\n\u001b[1;32m   1349\u001b[0m         \u001b[1;32mif\u001b[0m \u001b[0mres\u001b[0m \u001b[1;32mis\u001b[0m \u001b[1;32mNone\u001b[0m\u001b[1;33m:\u001b[0m\u001b[1;33m\u001b[0m\u001b[0m\n\u001b[0;32m-> 1350\u001b[0;31m             \u001b[0mvalues\u001b[0m \u001b[1;33m=\u001b[0m \u001b[0mself\u001b[0m\u001b[1;33m.\u001b[0m\u001b[0m_data\u001b[0m\u001b[1;33m.\u001b[0m\u001b[0mget\u001b[0m\u001b[1;33m(\u001b[0m\u001b[0mitem\u001b[0m\u001b[1;33m)\u001b[0m\u001b[1;33m\u001b[0m\u001b[0m\n\u001b[0m\u001b[1;32m   1351\u001b[0m             \u001b[0mres\u001b[0m \u001b[1;33m=\u001b[0m \u001b[0mself\u001b[0m\u001b[1;33m.\u001b[0m\u001b[0m_box_item_values\u001b[0m\u001b[1;33m(\u001b[0m\u001b[0mitem\u001b[0m\u001b[1;33m,\u001b[0m \u001b[0mvalues\u001b[0m\u001b[1;33m)\u001b[0m\u001b[1;33m\u001b[0m\u001b[0m\n\u001b[1;32m   1352\u001b[0m             \u001b[0mcache\u001b[0m\u001b[1;33m[\u001b[0m\u001b[0mitem\u001b[0m\u001b[1;33m]\u001b[0m \u001b[1;33m=\u001b[0m \u001b[0mres\u001b[0m\u001b[1;33m\u001b[0m\u001b[0m\n",
      "\u001b[0;32mC:\\Users\\dmdal\\Anaconda3\\lib\\site-packages\\pandas\\core\\internals.py\u001b[0m in \u001b[0;36mget\u001b[0;34m(self, item, fastpath)\u001b[0m\n\u001b[1;32m   3288\u001b[0m \u001b[1;33m\u001b[0m\u001b[0m\n\u001b[1;32m   3289\u001b[0m             \u001b[1;32mif\u001b[0m \u001b[1;32mnot\u001b[0m \u001b[0misnull\u001b[0m\u001b[1;33m(\u001b[0m\u001b[0mitem\u001b[0m\u001b[1;33m)\u001b[0m\u001b[1;33m:\u001b[0m\u001b[1;33m\u001b[0m\u001b[0m\n\u001b[0;32m-> 3290\u001b[0;31m                 \u001b[0mloc\u001b[0m \u001b[1;33m=\u001b[0m \u001b[0mself\u001b[0m\u001b[1;33m.\u001b[0m\u001b[0mitems\u001b[0m\u001b[1;33m.\u001b[0m\u001b[0mget_loc\u001b[0m\u001b[1;33m(\u001b[0m\u001b[0mitem\u001b[0m\u001b[1;33m)\u001b[0m\u001b[1;33m\u001b[0m\u001b[0m\n\u001b[0m\u001b[1;32m   3291\u001b[0m             \u001b[1;32melse\u001b[0m\u001b[1;33m:\u001b[0m\u001b[1;33m\u001b[0m\u001b[0m\n\u001b[1;32m   3292\u001b[0m                 \u001b[0mindexer\u001b[0m \u001b[1;33m=\u001b[0m \u001b[0mnp\u001b[0m\u001b[1;33m.\u001b[0m\u001b[0marange\u001b[0m\u001b[1;33m(\u001b[0m\u001b[0mlen\u001b[0m\u001b[1;33m(\u001b[0m\u001b[0mself\u001b[0m\u001b[1;33m.\u001b[0m\u001b[0mitems\u001b[0m\u001b[1;33m)\u001b[0m\u001b[1;33m)\u001b[0m\u001b[1;33m[\u001b[0m\u001b[0misnull\u001b[0m\u001b[1;33m(\u001b[0m\u001b[0mself\u001b[0m\u001b[1;33m.\u001b[0m\u001b[0mitems\u001b[0m\u001b[1;33m)\u001b[0m\u001b[1;33m]\u001b[0m\u001b[1;33m\u001b[0m\u001b[0m\n",
      "\u001b[0;32mC:\\Users\\dmdal\\Anaconda3\\lib\\site-packages\\pandas\\indexes\\base.py\u001b[0m in \u001b[0;36mget_loc\u001b[0;34m(self, key, method, tolerance)\u001b[0m\n\u001b[1;32m   1945\u001b[0m                 \u001b[1;32mreturn\u001b[0m \u001b[0mself\u001b[0m\u001b[1;33m.\u001b[0m\u001b[0m_engine\u001b[0m\u001b[1;33m.\u001b[0m\u001b[0mget_loc\u001b[0m\u001b[1;33m(\u001b[0m\u001b[0mkey\u001b[0m\u001b[1;33m)\u001b[0m\u001b[1;33m\u001b[0m\u001b[0m\n\u001b[1;32m   1946\u001b[0m             \u001b[1;32mexcept\u001b[0m \u001b[0mKeyError\u001b[0m\u001b[1;33m:\u001b[0m\u001b[1;33m\u001b[0m\u001b[0m\n\u001b[0;32m-> 1947\u001b[0;31m                 \u001b[1;32mreturn\u001b[0m \u001b[0mself\u001b[0m\u001b[1;33m.\u001b[0m\u001b[0m_engine\u001b[0m\u001b[1;33m.\u001b[0m\u001b[0mget_loc\u001b[0m\u001b[1;33m(\u001b[0m\u001b[0mself\u001b[0m\u001b[1;33m.\u001b[0m\u001b[0m_maybe_cast_indexer\u001b[0m\u001b[1;33m(\u001b[0m\u001b[0mkey\u001b[0m\u001b[1;33m)\u001b[0m\u001b[1;33m)\u001b[0m\u001b[1;33m\u001b[0m\u001b[0m\n\u001b[0m\u001b[1;32m   1948\u001b[0m \u001b[1;33m\u001b[0m\u001b[0m\n\u001b[1;32m   1949\u001b[0m         \u001b[0mindexer\u001b[0m \u001b[1;33m=\u001b[0m \u001b[0mself\u001b[0m\u001b[1;33m.\u001b[0m\u001b[0mget_indexer\u001b[0m\u001b[1;33m(\u001b[0m\u001b[1;33m[\u001b[0m\u001b[0mkey\u001b[0m\u001b[1;33m]\u001b[0m\u001b[1;33m,\u001b[0m \u001b[0mmethod\u001b[0m\u001b[1;33m=\u001b[0m\u001b[0mmethod\u001b[0m\u001b[1;33m,\u001b[0m \u001b[0mtolerance\u001b[0m\u001b[1;33m=\u001b[0m\u001b[0mtolerance\u001b[0m\u001b[1;33m)\u001b[0m\u001b[1;33m\u001b[0m\u001b[0m\n",
      "\u001b[0;32mpandas\\index.pyx\u001b[0m in \u001b[0;36mpandas.index.IndexEngine.get_loc (pandas\\index.c:4154)\u001b[0;34m()\u001b[0m\n",
      "\u001b[0;32mpandas\\index.pyx\u001b[0m in \u001b[0;36mpandas.index.IndexEngine.get_loc (pandas\\index.c:4018)\u001b[0;34m()\u001b[0m\n",
      "\u001b[0;32mpandas\\hashtable.pyx\u001b[0m in \u001b[0;36mpandas.hashtable.PyObjectHashTable.get_item (pandas\\hashtable.c:12368)\u001b[0;34m()\u001b[0m\n",
      "\u001b[0;32mpandas\\hashtable.pyx\u001b[0m in \u001b[0;36mpandas.hashtable.PyObjectHashTable.get_item (pandas\\hashtable.c:12322)\u001b[0;34m()\u001b[0m\n",
      "\u001b[0;31mKeyError\u001b[0m: 1"
     ]
    }
   ],
   "source": [
    "complete_CV = CountVectorizer(binary=False, lowercase = False, stop_words = 'english') \n",
    "complete_CV_dm = complete_CV.fit_transform(complete_set['OrigText'])\n",
    "#print(complete_CV_dm.shape)\n",
    "\n",
    "names = complete_CV.get_feature_names()\n",
    "#print(type(names), len(names))\n",
    "\n",
    "count = np.sum(complete_CV_dm.toarray(), axis = 0).tolist()\n",
    "#print(type(count), len(count))\n",
    "count_df = pd.DataFrame(count, index = names, columns = ['count'])\n",
    "\n",
    "#count_df.sort_values(['count'], ascending = False).head(20)\n",
    "\n",
    "#print(names)\n",
    "complete_set[1]"
   ]
  },
  {
   "cell_type": "code",
   "execution_count": 7,
   "metadata": {
    "collapsed": true
   },
   "outputs": [],
   "source": [
    "from nltk.corpus import stopwords\n",
    "\n",
    "nltk_stopwords = stopwords.words(\"english\")\n",
    "\n",
    "#print(type(nltk_stopwords))\n",
    "#print(len(nltk_stopwords))\n",
    "my_stopwords = nltk_stopwords + [\"br\", \"said\",\"Mr\",\"It\",\"The\",\"Mrs\",\"did\",\"But\",\"The\" \"0\", '000', '10', '100', '11', '12', '13', '14', u'15', u'16', u'17', u'18', u'19', u'20', u'25', u'30', u'40', u'50', u'500', u'60']\n",
    "#print(len(my_stopwords))"
   ]
  },
  {
   "cell_type": "code",
   "execution_count": 31,
   "metadata": {
    "collapsed": false
   },
   "outputs": [
    {
     "data": {
      "text/plain": [
       "<matplotlib.axes._subplots.AxesSubplot at 0x12b004b26a0>"
      ]
     },
     "execution_count": 31,
     "metadata": {},
     "output_type": "execute_result"
    },
    {
     "data": {
      "image/png": "[encoded data removed]",
      "text/plain": [
       "<matplotlib.figure.Figure at 0x12b0080f9b0>"
      ]
     },
     "metadata": {},
     "output_type": "display_data"
    }
   ],
   "source": [
    "%matplotlib inline\n",
    "import matplotlib as mpl\n",
    "import matplotlib.pyplot as plt\n",
    "\n",
    "# get a feel for the distribution\n",
    "complete_set['Author'].value_counts().plot(kind='bar')"
   ]
  },
  {
   "cell_type": "markdown",
   "metadata": {},
   "source": [
    "# T1.  \n",
    "\n",
    "Read in or create a data frame with at least one column of text to be analyzed.  This could be the text you used previously or new text. Choose a prediction you would like to make with these data and create the appropriate feature space. Identify the labels you will be trying to predict and proceed to create a train-test split. Using default model parameters, fit 3 classifiers (decision tree, naïve bayes, and logistic regression) to your dataset and subsequently generate predictions (just like we did in class). Feel free to set a random state variable where appropriate to facilitate replication.  Assess the performance of the models using any of the measures (confusion matrices, precision, recall, f1-score, and accuracy)."
   ]
  },
  {
   "cell_type": "code",
   "execution_count": 9,
   "metadata": {
    "collapsed": true
   },
   "outputs": [],
   "source": [
    "from sklearn.feature_extraction.text import CountVectorizer, TfidfVectorizer\n",
    "\n",
    "# instantiate vectorizer(s)\n",
    "cv1 = CountVectorizer(lowercase=False, \n",
    "                     stop_words=my_stopwords,\n",
    "                     binary=False,\n",
    "                     max_df=0.95, \n",
    "                     min_df=0.1,\n",
    "                     ngram_range = (1,1)) \n",
    "tfidf1 = TfidfVectorizer(lowercase=False, \n",
    "                        stop_words= my_stopwords, \n",
    "                        max_df=0.95, \n",
    "                        min_df=0.1,\n",
    "                        ngram_range = (1,1)) \n",
    "\n",
    "choice = TfidfVectorizer(lowercase = False,\n",
    "                         stop_words = my_stopwords,\n",
    "                         binary=True,\n",
    "                         max_df=.92,\n",
    "                         min_df=.1,\n",
    "                         ngram_range = (1,1)) #choose your favorite parameter combination\n",
    "\n",
    "# fit and transform text\n",
    "cv_dm = cv1.fit_transform(complete_set['OrigText'])\n",
    "tfidf_dm = tfidf1.fit_transform(complete_set['OrigText'])\n",
    "choice_dm = choice.fit_transform(complete_set['OrigText'])"
   ]
  },
  {
   "cell_type": "code",
   "execution_count": 10,
   "metadata": {
    "collapsed": false
   },
   "outputs": [
    {
     "name": "stderr",
     "output_type": "stream",
     "text": [
      "DeprecationWarning: This module was deprecated in version 0.18 in favor of the model_selection module into which all the refactored classes and functions are moved. Also note that the interface of the new CV iterators are different from that of this module. This module will be removed in 0.20. [cross_validation.py:44]\n"
     ]
    }
   ],
   "source": [
    "from sklearn.cross_validation import train_test_split\n",
    "\n",
    "X = cv_dm.toarray()  #remember this is the output from the vectorizer and we are turning it into an array\n",
    "#print(type(X), X[0:10])\n",
    "\n",
    "\n",
    "y = complete_set['Author'].values #this is an array of labels\n",
    "#print(type(y), y[0:10])"
   ]
  },
  {
   "cell_type": "code",
   "execution_count": 11,
   "metadata": {
    "collapsed": true
   },
   "outputs": [],
   "source": [
    "#print(complete_set['OrigText'][0:1])\n",
    "#print(\"~~~~~~~~~~~~\")\n",
    "#print(complete_set['Author'][0:1])\n",
    "#print(\"~~~~~~~~~~~~~\")\n",
    "#we created numeric representations of the text \n",
    "#print(pd.DataFrame(X,columns = cv1.get_feature_names())[0:1])"
   ]
  },
  {
   "cell_type": "code",
   "execution_count": 12,
   "metadata": {
    "collapsed": true
   },
   "outputs": [],
   "source": [
    "X_train, X_test, y_train, y_test = train_test_split(X, y, test_size=0.3, random_state=42) #random_state is set seed\n",
    "\n",
    "# function creates 4 output structures - order matters\n",
    "#print(X_train)\n",
    "#print(X_train.shape)\n",
    "#print(X_test.shape)\n",
    "#print(y_train.shape)\n",
    "#print(y_test.shape)"
   ]
  },
  {
   "cell_type": "code",
   "execution_count": 13,
   "metadata": {
    "collapsed": true
   },
   "outputs": [],
   "source": [
    "from sklearn import metrics\n",
    "from sklearn.tree import DecisionTreeClassifier\n",
    "\n",
    "# fit a CART model to the data\n",
    "model = DecisionTreeClassifier(random_state = 42)\n",
    "model.fit(X_train, y_train)\n",
    "\n",
    "# make predictions\n",
    "clf1_expected = y_test\n",
    "clf1_predicted = model.predict(X_test)\n",
    "\n",
    "\n",
    "#print(model.score(X_test,y_test))\n",
    "\n",
    "# summarize the fit of the model\n",
    "#print(\"accuracy: \" + str(metrics.accuracy_score(clf1_expected, clf1_predicted)))\n",
    "#print(metrics.classification_report(clf1_expected, clf1_predicted))"
   ]
  },
  {
   "cell_type": "code",
   "execution_count": 14,
   "metadata": {
    "collapsed": true
   },
   "outputs": [],
   "source": [
    "from sklearn.naive_bayes import MultinomialNB\n",
    "\n",
    "# fit a Naive Bayes model to the data\n",
    "model = MultinomialNB()\n",
    "#print(model)\n",
    "model.fit(X_train, y_train)\n",
    "\n",
    "# make predictions\n",
    "clf2_expected = y_test\n",
    "clf2_predicted = model.predict(X_test)\n",
    "\n",
    "#print(model.score(X_test, y_test))\n",
    "\n",
    "# summarize the fit of the model\n",
    "#print(\"accuracy: \" + str(metrics.accuracy_score(clf2_expected, clf2_predicted)))\n",
    "#print(metrics.classification_report(clf2_expected, clf2_predicted))"
   ]
  },
  {
   "cell_type": "code",
   "execution_count": 15,
   "metadata": {
    "collapsed": true
   },
   "outputs": [],
   "source": [
    "from sklearn.linear_model import LogisticRegression\n",
    "\n",
    "# fit a logistic regression model to the data\n",
    "model = LogisticRegression(random_state = 42)\n",
    "#print(model)\n",
    "model.fit(X_train, y_train)\n",
    "\n",
    "# make predictions\n",
    "clf3_expected = y_test\n",
    "clf3_predicted = model.predict(X_test)\n",
    "\n",
    "#print(model.score(X_test, y_test))\n",
    "\n",
    "# summarize the fit of the model\n",
    "#print(\"accuracy: \" + str(metrics.accuracy_score(clf3_expected, clf3_predicted)))\n",
    "#print(metrics.classification_report(clf3_expected, clf3_predicted))"
   ]
  },
  {
   "cell_type": "markdown",
   "metadata": {},
   "source": [
    "# Q1. \n",
    "\n",
    "Write a short description of the results of these “baseline” models. Make sure your answer is no longer than four paragraphs, and should at minimum answer these questions:\n",
    "What decisions did you make when creating your feature space? Why?  \n",
    "How do these classifiers address your question?\n",
    "How did your models perform? Are you happy with the results?  Why or why not?\n",
    "Audience: general – management or non-technical staff."
   ]
  },
  {
   "cell_type": "markdown",
   "metadata": {},
   "source": [
    "# A1.\n",
    "\n",
    "These \"baseline\" models preformed very well (best model is 99% and the worst model is 95%) but that is cause for concern. \n",
    "\n",
    "What decisions did you make when creating your feature space? Why? \n",
    "I brought in all of the text from the PDFs since this is just a baseline model. The words, or \"features\", I removed were words in the English stop words. I removed these words because they are words that occur frequently and don't provide much or any information. The stop words are generic/common words that do not help with our prediction and because they do not help answer our question I have decided to remove them.\n",
    "\n",
    "How do these classifiers address your question?\n",
    "I want to be able to predict an author based on the text from a page. The classifiers help me answer that question. Each classifier is an author which is what I'm trying to predict. \n",
    "\n",
    "How did your models perform? Are you happy with the results?  Why or why not?\n",
    "My models performed very well but I believe this is not a good thing. I have too many items in my word list compared to what I am trying to predict. The model is overfitted. I would need to either add more entries for prediction or break down my current entries from pages to paragraphs.\n"
   ]
  },
  {
   "cell_type": "markdown",
   "metadata": {},
   "source": [
    "# T2. \n",
    "\n",
    "Using a variety of parameter settings (for classifiers or vectorizers), try to improve on the performance of the baseline models.  At least 6 separate predictions should be run and the results reported in a table.  You can use any combination of parameters and classifiers; you do not need to use all three classifiers. "
   ]
  },
  {
   "cell_type": "code",
   "execution_count": 16,
   "metadata": {
    "collapsed": true
   },
   "outputs": [],
   "source": [
    "from sklearn.cross_validation import train_test_split\n",
    "\n",
    "X = tfidf_dm.toarray()  #remember this is the output from the vectorizer\n",
    "#print(type(X), X[0:10])\n",
    "\n",
    "\n",
    "y = complete_set['Author'].values #this is an array of labels\n",
    "#print(type(y), y[0:10])"
   ]
  },
  {
   "cell_type": "code",
   "execution_count": 17,
   "metadata": {
    "collapsed": true
   },
   "outputs": [],
   "source": [
    "X_train, X_test, y_train, y_test = train_test_split(X, y, test_size=0.3, random_state=42) #random_state is set seed\n",
    "\n",
    "# function creates 4 output structures - order matters\n",
    "#print(X_train.shape)\n",
    "#print(X_test.shape)\n",
    "#print(y_train.shape)\n",
    "#print(y_test.shape)"
   ]
  },
  {
   "cell_type": "code",
   "execution_count": 18,
   "metadata": {
    "collapsed": true
   },
   "outputs": [],
   "source": [
    "from sklearn import metrics\n",
    "from sklearn.tree import DecisionTreeClassifier\n",
    "\n",
    "# fit a CART model to the data\n",
    "model = DecisionTreeClassifier(random_state = 42)\n",
    "model.fit(X_train, y_train)\n",
    "\n",
    "# make predictions\n",
    "clf1_expected = y_test\n",
    "clf1_predicted = model.predict(X_test)\n",
    "\n",
    "\n",
    "#print(model.score(X_test,y_test))\n",
    "\n",
    "# summarize the fit of the model\n",
    "#print(\"accuracy: \" + str(metrics.accuracy_score(clf1_expected, clf1_predicted)))\n",
    "#print(metrics.classification_report(clf1_expected, clf1_predicted))"
   ]
  },
  {
   "cell_type": "code",
   "execution_count": 19,
   "metadata": {
    "collapsed": true
   },
   "outputs": [],
   "source": [
    "from sklearn.naive_bayes import MultinomialNB\n",
    "\n",
    "# fit a Naive Bayes model to the data\n",
    "model = MultinomialNB()\n",
    "#print(model)\n",
    "model.fit(X_train, y_train)\n",
    "\n",
    "# make predictions\n",
    "clf2_expected = y_test\n",
    "clf2_predicted = model.predict(X_test)\n",
    "\n",
    "#print(model.score(X_test, y_test))\n",
    "\n",
    "# summarize the fit of the model\n",
    "#print(\"accuracy: \" + str(metrics.accuracy_score(clf2_expected, clf2_predicted)))\n",
    "#print(metrics.classification_report(clf2_expected, clf2_predicted))"
   ]
  },
  {
   "cell_type": "code",
   "execution_count": 20,
   "metadata": {
    "collapsed": true
   },
   "outputs": [],
   "source": [
    "# Logistic Regression\n",
    "from sklearn.linear_model import LogisticRegression\n",
    "\n",
    "# fit a logistic regression model to the data\n",
    "model = LogisticRegression(random_state = 42)\n",
    "#print(model)\n",
    "model.fit(X_train, y_train)\n",
    "\n",
    "# make predictions\n",
    "clf3_expected = y_test\n",
    "clf3_predicted = model.predict(X_test)\n",
    "\n",
    "#print(model.score(X_test, y_test))\n",
    "\n",
    "# summarize the fit of the model\n",
    "#print(\"accuracy: \" + str(metrics.accuracy_score(clf3_expected, clf3_predicted)))\n",
    "#print(metrics.classification_report(clf3_expected, clf3_predicted))"
   ]
  },
  {
   "cell_type": "code",
   "execution_count": 21,
   "metadata": {
    "collapsed": false
   },
   "outputs": [],
   "source": [
    "cv1 = CountVectorizer(lowercase=False, \n",
    "                     stop_words=my_stopwords,\n",
    "                     binary=False,\n",
    "                     max_df=0.9, \n",
    "                     min_df=0.1,\n",
    "                     ngram_range = (1,1))\n",
    "cv_dm = cv1.fit_transform(complete_set['OrigText'])\n",
    "X = cv_dm.toarray()  #remember this is the output from the vectorizer and we are turning it into an array\n",
    "#print(type(X), X[0:10])\n",
    "\n",
    "\n",
    "y = complete_set['Author'].values\n",
    "X_train, X_test, y_train, y_test = train_test_split(X, y, test_size=0.4, random_state=42)"
   ]
  },
  {
   "cell_type": "code",
   "execution_count": 22,
   "metadata": {
    "collapsed": true
   },
   "outputs": [],
   "source": [
    "from sklearn import metrics\n",
    "from sklearn.tree import DecisionTreeClassifier\n",
    "\n",
    "# fit a CART model to the data\n",
    "model = DecisionTreeClassifier(random_state = 42)\n",
    "model.fit(X_train, y_train)\n",
    "\n",
    "# make predictions\n",
    "clf1_expected = y_test\n",
    "clf1_predicted = model.predict(X_test)\n",
    "\n",
    "\n",
    "#print(model.score(X_test,y_test))\n",
    "\n",
    "# summarize the fit of the model\n",
    "#print(\"accuracy: \" + str(metrics.accuracy_score(clf1_expected, clf1_predicted)))\n",
    "#print(metrics.classification_report(clf1_expected, clf1_predicted))"
   ]
  },
  {
   "cell_type": "code",
   "execution_count": 23,
   "metadata": {
    "collapsed": true
   },
   "outputs": [],
   "source": [
    "from sklearn.naive_bayes import MultinomialNB\n",
    "\n",
    "# fit a Naive Bayes model to the data\n",
    "model = MultinomialNB()\n",
    "#print(model)\n",
    "model.fit(X_train, y_train)\n",
    "\n",
    "# make predictions\n",
    "clf2_expected = y_test\n",
    "clf2_predicted = model.predict(X_test)\n",
    "\n",
    "#print(model.score(X_test, y_test))\n",
    "\n",
    "# summarize the fit of the model\n",
    "#print(\"accuracy: \" + str(metrics.accuracy_score(clf2_expected, clf2_predicted)))\n",
    "#print(metrics.classification_report(clf2_expected, clf2_predicted))"
   ]
  },
  {
   "cell_type": "code",
   "execution_count": 24,
   "metadata": {
    "collapsed": true
   },
   "outputs": [],
   "source": [
    "from sklearn.linear_model import LogisticRegression\n",
    "\n",
    "# fit a logistic regression model to the data\n",
    "model = LogisticRegression(random_state = 42)\n",
    "#print(model)\n",
    "model.fit(X_train, y_train)\n",
    "\n",
    "# make predictions\n",
    "clf3_expected = y_test\n",
    "clf3_predicted = model.predict(X_test)\n",
    "\n",
    "#print(model.score(X_test, y_test))\n",
    "\n",
    "# summarize the fit of the model\n",
    "#print(\"accuracy: \" + str(metrics.accuracy_score(clf3_expected, clf3_predicted)))\n",
    "#print(metrics.classification_report(clf3_expected, clf3_predicted))"
   ]
  },
  {
   "cell_type": "markdown",
   "metadata": {},
   "source": [
    "# Q2. \n",
    "\n",
    "Write a short description of the improvement you were able to make in your prediction. Make sure your answer is no longer than four paragraphs, and should at minimum answer these questions:\n",
    "What combination of classifiers and settings did you use and why?\n",
    "Which model fit “best” and what metric did you use for the comparison? Why? \n",
    "Are you happy with the results? Why or why not?  What could you do to improve on the “best” model’s performance?\n",
    "Audience: technical – fellow data scientists or other technical staff."
   ]
  },
  {
   "cell_type": "markdown",
   "metadata": {},
   "source": [
    "# A2.\n",
    "             \n",
    "Table| Decision Tree |   Naive Bayes  |  Logistic Regression\n",
    "-----|---------------|----------------|---------------------\n",
    "Accuracy with weights|  0.9826       |     0.9548     |  0.9965\n",
    "Accuracy using 60/40 split| 0.9739        |      0.9609    |  0.9843\n",
    "\n",
    "\n",
    "What combination of classifiers and settings did you use and why?\n",
    "For the first 3 predictions I used the weight vectorizer. I used the weight vectorizers for the decision tree, naive bayes, and logistic regression. I kept the 3 classifiers I used earlier. If I removed entries for the 3rd classifier I would not have enough data. If anything, I would want to add more classifiers or at least add more data for the classifiers that I currently have. Adding more classifiers would make my model more complex and interesting. It is more interesting to predict many authors instead of 3. Adding more data for the classifiers I have now would reduce overfitting, which I believe I am currently experiencing.\n",
    "\n",
    "The next 3 predictions I used had a higher test/train split of 60% training and 40% training. The accuracy is pretty similar to the 70/30 split which shows that my model is fairly consistent. The drop in accuracy is due to the change in the min and max df. I restricted the min and max document frequency because I wanted to reduce the overall feature space. The feature space was too large and was leading to a model that was overfitted. \n",
    "\n",
    "Which model fit “best” and what metric did you use for the comparison? Why? \n",
    "The model that performed the best was my logistic regression model with the weight vectorizer. Again, I have concern that this model is overfitting, so best is a loose term. I used accuracy as my metric of comparison. I used accuracy because I am interested in overall classification. If I was working with something that was attached to revenue or cost then I would be interested in using either specificity or sensitivity. Since there is no cost associated with misclassifying a book, I am using accuracy as my metric.\n",
    "\n",
    "Are you happy with the results? Why or why not?  What could you do to improve on the “best” model’s performance?\n",
    "The results are good but I believe I need more data. I have too many features in relation to documents. To improve the model I could tinker with the "
   ]
  },
  {
   "cell_type": "markdown",
   "metadata": {},
   "source": [
    "# T3. \n",
    "\n",
    "Choose one preprocessing option (stemming, lemmatization, custom dictionary, custom stopwords, etc.) and recreate your feature space.  Rerun your 3 best models.\n"
   ]
  },
  {
   "cell_type": "code",
   "execution_count": 25,
   "metadata": {
    "collapsed": false
   },
   "outputs": [],
   "source": [
    "cv1 = CountVectorizer(lowercase=False, \n",
    "                     stop_words=my_stopwords,\n",
    "                     binary=False,\n",
    "                     max_df=0.95, \n",
    "                     min_df=0.1,\n",
    "                     ngram_range = (1,1))\n",
    "tfidf1 = TfidfVectorizer(lowercase=False, \n",
    "                        stop_words= my_stopwords, \n",
    "                        max_df=0.95, \n",
    "                        min_df=0.1,\n",
    "                        ngram_range = (1,1)) \n"
   ]
  },
  {
   "cell_type": "code",
   "execution_count": 26,
   "metadata": {
    "collapsed": true
   },
   "outputs": [],
   "source": [
    "import re\n",
    "_dict = { 'boats':'boat', 'old man':'om', 'Asianing.com':'','asiaing':'', 'fishes':'fish', '\\n':'',\n",
    "         'approaching': 'approachin', 'boating':'boat', 'wall':'walls','undergarment':'undergarments'\n",
    "        ,'tact':'tactful','wound':'wounded', 'wounding':'wounded', 'wounds':'wounded'}\n",
    "\n",
    "def multiple_replace(dict, text): \n",
    "\n",
    "  \"\"\" Replace in 'text' all occurences of any key in the given\n",
    "  dictionary by its corresponding value.  Returns the new tring.\"\"\" \n",
    "  text = str(text).lower()\n",
    "\n",
    "  # Create a regular expression  from the dictionary keys\n",
    "  regex = re.compile(\"(%s)\" % \"|\".join(map(re.escape, dict.keys())))\n",
    "\n",
    "  # For each match, look-up corresponding value in dictionary\n",
    "  return regex.sub(lambda mo: dict[mo.string[mo.start():mo.end()]], text)\n",
    "\n",
    "complete_set['cleantext'] = complete_set.OrigText.apply(lambda x: multiple_replace(_dict, x))\n",
    "#book_df.cleantext[0] "
   ]
  },
  {
   "cell_type": "code",
   "execution_count": 27,
   "metadata": {
    "collapsed": false
   },
   "outputs": [],
   "source": [
    "cv_dm = cv1.fit_transform(complete_set['cleantext'])\n",
    "tfidf_dm = tfidf1.fit_transform(complete_set['cleantext'])\n",
    "X = tfidf_dm.toarray()  \n",
    "y = complete_set['Author'].values\n",
    "\n",
    "#X = cv_dm.toarray()  \n",
    "#y = complete_set['Author'].values #this is an array of labels\n",
    "\n",
    "X_train, X_test, y_train, y_test = train_test_split(X, y, test_size=0.3, random_state=42) #random_state is set seed\n",
    "\n",
    "# function creates 4 output structures - order matters\n",
    "#print(X_train.shape)\n",
    "#print(X_test.shape)\n",
    "#print(y_train.shape)\n",
    "#print(y_test.shape)\n",
    "\n"
   ]
  },
  {
   "cell_type": "code",
   "execution_count": 28,
   "metadata": {
    "collapsed": false
   },
   "outputs": [
    {
     "name": "stdout",
     "output_type": "stream",
     "text": [
      "0.979166666667\n"
     ]
    }
   ],
   "source": [
    "model = LogisticRegression(random_state = 42)\n",
    "#print(model)\n",
    "model.fit(X_train, y_train)\n",
    "\n",
    "# make predictions\n",
    "clf3_expected = y_test\n",
    "clf3_predicted = model.predict(X_test)\n",
    "\n",
    "print(model.score(X_test, y_test))"
   ]
  },
  {
   "cell_type": "code",
   "execution_count": 29,
   "metadata": {
    "collapsed": false
   },
   "outputs": [
    {
     "name": "stdout",
     "output_type": "stream",
     "text": [
      "0.954861111111\n"
     ]
    }
   ],
   "source": [
    "model = DecisionTreeClassifier(random_state = 42)\n",
    "model.fit(X_train, y_train)\n",
    "\n",
    "# make predictions\n",
    "clf1_expected = y_test\n",
    "clf1_predicted = model.predict(X_test)\n",
    "\n",
    "print(model.score(X_test, y_test))"
   ]
  },
  {
   "cell_type": "code",
   "execution_count": 30,
   "metadata": {
    "collapsed": false
   },
   "outputs": [
    {
     "name": "stdout",
     "output_type": "stream",
     "text": [
      "0.993055555556\n"
     ]
    }
   ],
   "source": [
    "X = cv_dm.toarray()  \n",
    "y = complete_set['Author'].values #this is an array of labels\n",
    "\n",
    "X_train, X_test, y_train, y_test = train_test_split(X, y, test_size=0.3, random_state=42)\n",
    "model = LogisticRegression(random_state = 42)\n",
    "#print(model)\n",
    "model.fit(X_train, y_train)\n",
    "\n",
    "# make predictions\n",
    "clf3_expected = y_test\n",
    "clf3_predicted = model.predict(X_test)\n",
    "\n",
    "print(model.score(X_test, y_test))\n",
    "\n"
   ]
  },
  {
   "cell_type": "markdown",
   "metadata": {},
   "source": [
    "# Q3.  \n",
    "\n",
    "Write a short description of the exercise and the outcome.  Make sure your answer is no longer than three paragraphs, and should at minimum answer these questions:\n",
    "How did the preprocessing affect the feature space? Why did you choose that option?  What changed (not just size)?\n",
    "How did the preprocessing affect the performance of the models? Is this the result you would have expected? \n",
    "Are you satisfied with the performance of any of the models?  Why or Why not?  What else might you investigate? \n",
    "Audience: technical – fellow data scientists or other technical staff."
   ]
  },
  {
   "cell_type": "markdown",
   "metadata": {},
   "source": [
    "# A3.\n",
    "\n",
    "How did the preprocessing affect the feature space? Why did you choose that option?  What changed (not just size)?\n",
    "Preprocessing with a custom dictionary reduced my feature because it removed tokens. I chose a custom dictionary because I noticed there were several tokens that were similar and could be reduced to one token. As an example,undergarment and undergarments could be reduced down to one token since they represent the same information for predicting my question.\n",
    "\n",
    "How did the preprocessing affect the performance of the models? Is this the result you would have expected? \n",
    "It lowered my accuracy for 2 of my models slightly. I would and I wouldn't expect this. I would expect this because it is reducing tokens that could be used for prediction. One of the tokens that I removed may have held some information for prediction that I was unaware of. I wouldn't expect this because we are consolidating redundant data.I would expect the model to become more precise. I do believe the model is better off with the reduce feature space due to overfitting.\n",
    "\n",
    "Are you satisfied with the performance of any of the models?  Why or Why not?  What else might you investigate?\n",
    "Out of the 3 I am satisfied with the decision tree model because of its 95% accuracy. The 95% accuracy begins to indicate that it is not overfitted as the two models that are 99% accurate, but it is still accuracte enough to help with identifying an author based on a page that was submitted. I would also want to investigate other words to remove and add on to my current dictionary."
   ]
  },
  {
   "cell_type": "markdown",
   "metadata": {},
   "source": [
    "# Q4.  \n",
    "\n",
    "In no more than a paragraph, outline your final project. What question are you looking to answer?  What text are you using?  With whom are you working? (Note:  you will not be strictly held to this description since there are still techniques that we will cover in class. This is meant to get people thinking about how to get started more than a week before the project is due.) "
   ]
  },
  {
   "cell_type": "markdown",
   "metadata": {},
   "source": [
    "# A4.\n",
    "\n",
    "Team members: Cory Lowe, Nathan Shores, and Dylan Dale \n",
    "Project Outline: We would like to be able to predict a well known author based on the text from their book. The authors that are included currently for our prediction are: Hemingway, Tolstoy, Austen, and Faulkner. We are using their well known novels to assist us with our predictions. Our corpus will consist of pages from their novels. How could this be used? Library science, predict unknown authors, or predict plagiarism. "
   ]
  }
 ],
 "metadata": {
  "anaconda-cloud": {},
  "kernelspec": {
   "display_name": "Python [default]",
   "language": "python",
   "name": "python3"
  },
  "language_info": {
   "codemirror_mode": {
    "name": "ipython",
    "version": 3
   },
   "file_extension": ".py",
   "mimetype": "text/x-python",
   "name": "python",
   "nbconvert_exporter": "python",
   "pygments_lexer": "ipython3",
   "version": "3.5.2"
  }
 },
 "nbformat": 4,
 "nbformat_minor": 1
}
