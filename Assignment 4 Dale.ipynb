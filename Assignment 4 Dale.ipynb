{
 "cells": [
  {
   "cell_type": "code",
   "execution_count": 2,
   "metadata": {
    "collapsed": true
   },
   "outputs": [],
   "source": [
    "from __future__ import division\n",
    "import pandas as pd\n",
    "import numpy as np\n",
    "from nltk.stem.porter import PorterStemmer\n",
    "from nltk.stem.lancaster import LancasterStemmer\n",
    "from nltk.stem import SnowballStemmer\n",
    "from nltk.stem import WordNetLemmatizer\n",
    "from nltk.corpus import stopwords\n",
    "import requests\n",
    "from sklearn.feature_extraction.text import CountVectorizer\n",
    "import math\n",
    "from bs4 import BeautifulSoup\n",
    "import requests\n",
    "from nltk.corpus import stopwords\n",
    "from sklearn.feature_extraction import text\n",
    "from sklearn.feature_extraction.text import TfidfVectorizer\n",
    "import PyPDF2"
   ]
  },
  {
   "cell_type": "code",
   "execution_count": 3,
   "metadata": {
    "collapsed": false
   },
   "outputs": [
    {
     "name": "stdout",
     "output_type": "stream",
     "text": [
      "<class 'int'>\n",
      "<class 'list'>\n",
      "(51, 1)\n",
      "<class 'pandas.core.frame.DataFrame'>\n",
      "RangeIndex(start=0, stop=1, step=1)\n",
      "(51, 1230)\n"
     ]
    }
   ],
   "source": [
    "\n",
    "pdfFileObj = open('oldmansea.pdf','rb')     #'rb' for read binary mode\n",
    "pdfReader = PyPDF2.PdfFileReader(pdfFileObj)\n",
    "pages = pdfReader.numPages\n",
    "print(type(pages))\n",
    "speechtext = []\n",
    "print(type(speechtext))\n",
    "i = 1\n",
    "while i < pages: \n",
    "    pageObj = pdfReader.getPage(i)\n",
    "    text= pageObj.extractText()\n",
    "    text = [text]\n",
    "    #text = ''.join(row.findAll(text=True)) \n",
    "    #data = [str(text.strip())] \n",
    "    speechtext = speechtext + text\n",
    "    i = i+1\n",
    "\n",
    "#print(speechtext[14])\n",
    "book_df = pd.DataFrame(speechtext)\n",
    "print(book_df.shape)\n",
    "print(type(book_df))\n",
    "print (book_df.columns)\n",
    "\n",
    "cv = CountVectorizer(binary=False, stop_words = 'english', min_df=.025, max_df =.60) \n",
    "cv_dm = cv.fit_transform(book_df[0])\n",
    "print(cv_dm.shape)\n",
    "names = cv.get_feature_names()   #create list of feature names\n",
    "count = np.sum(cv_dm.toarray(), axis = 0) # add up feature counts \n",
    "count2 = count.tolist()  # convert numpy array to list\n",
    "count_df = pd.DataFrame(count2, index = names, columns = ['count']) # create a dataframe from the list\n",
    "#count_df.sort_values(['count'], ascending = False)[0:19]"
   ]
  },
  {
   "cell_type": "code",
   "execution_count": 4,
   "metadata": {
    "collapsed": false
   },
   "outputs": [],
   "source": [
    "from nltk.stem.porter import PorterStemmer\n",
    "ps = PorterStemmer() \n",
    "\n",
    "def stem_text(row):\n",
    "    text = str(row).split() \n",
    "    stemtext = [ps.stem(word) for word in text]\n",
    "    stem2text = ' '.join(stemtext)\n",
    "    return stem2text\n",
    "book_df['orig']=book_df[0]\n",
    "book_df['stemmed'] = book_df[0].apply(lambda x: stem_text(x))\n",
    "#print( book_df[0:1])\n",
    "#print(\"~~~~~~~~~~~~~~~~~~~\")\n",
    "#print(book_df.stemmed[0:1])\n",
    "#print(book_df.stemmed[0])"
   ]
  },
  {
   "cell_type": "code",
   "execution_count": 5,
   "metadata": {
    "collapsed": false
   },
   "outputs": [
    {
     "name": "stdout",
     "output_type": "stream",
     "text": [
      "(51, 1180)\n"
     ]
    }
   ],
   "source": [
    "cv_dm = cv.fit_transform(book_df['stemmed'])\n",
    "print(cv_dm.shape)\n",
    "names = cv.get_feature_names()   \n",
    "count = np.sum(cv_dm.toarray(), axis = 0) \n",
    "count2 = count.tolist()  \n",
    "count_df = pd.DataFrame(count2, index = names, columns = ['count']) \n",
    "#count_df.sort_values(['count'], ascending = False)[0:19] "
   ]
  },
  {
   "cell_type": "code",
   "execution_count": 6,
   "metadata": {
    "collapsed": false
   },
   "outputs": [],
   "source": [
    "\n",
    "book_df['newtext'] = book_df.orig.apply(lambda x: x.replace('TM', ''))\n",
    "#for every x in newtext, apply the replace statement to every x in newtext\n",
    "#print(book_df.newtext[0])\n"
   ]
  },
  {
   "cell_type": "markdown",
   "metadata": {},
   "source": [
    "# T1.  \n",
    "\n",
    "Read in or create a data frame with at least one column of text to be analyzed.  This could be the text you used previously or new text. Based on the context of your dataset and the question you want to answer, identify at least terms that would be beneficial to replace and place them into a [Python] dictionary. Use your discretion concerning what terms make the most sense to replace. Apply the replacement. Compare the feature space before and after your replacement. "
   ]
  },
  {
   "cell_type": "code",
   "execution_count": 7,
   "metadata": {
    "collapsed": false
   },
   "outputs": [],
   "source": [
    "import re\n",
    "_dict = { 'boat':'boats', 'old man':'om', 'Asianing.com':'','asiaing':'', 'fishes':'fish', '\\n':''}\n",
    "\n",
    "def multiple_replace(dict, text): \n",
    "\n",
    "  \"\"\" Replace in 'text' all occurences of any key in the given\n",
    "  dictionary by its corresponding value.  Returns the new tring.\"\"\" \n",
    "  text = str(text).lower()\n",
    "\n",
    "  # Create a regular expression  from the dictionary keys\n",
    "  regex = re.compile(\"(%s)\" % \"|\".join(map(re.escape, dict.keys())))\n",
    "\n",
    "  # For each match, look-up corresponding value in dictionary\n",
    "  return regex.sub(lambda mo: dict[mo.string[mo.start():mo.end()]], text)\n",
    "\n",
    "book_df['cleantext'] = book_df.newtext.apply(lambda x: multiple_replace(_dict, x))\n",
    "#book_df.cleantext[0] "
   ]
  },
  {
   "cell_type": "code",
   "execution_count": 8,
   "metadata": {
    "collapsed": false
   },
   "outputs": [
    {
     "name": "stdout",
     "output_type": "stream",
     "text": [
      "(51, 1116)\n"
     ]
    },
    {
     "data": {
      "text/html": [
       "<div>\n",
       "<table border=\"1\" class=\"dataframe\">\n",
       "  <thead>\n",
       "    <tr style=\"text-align: right;\">\n",
       "      <th></th>\n",
       "      <th>count</th>\n",
       "    </tr>\n",
       "  </thead>\n",
       "  <tbody>\n",
       "    <tr>\n",
       "      <th>boy</th>\n",
       "      <td>99</td>\n",
       "    </tr>\n",
       "    <tr>\n",
       "      <th>hand</th>\n",
       "      <td>90</td>\n",
       "    </tr>\n",
       "    <tr>\n",
       "      <th>great</th>\n",
       "      <td>64</td>\n",
       "    </tr>\n",
       "    <tr>\n",
       "      <th>head</th>\n",
       "      <td>62</td>\n",
       "    </tr>\n",
       "    <tr>\n",
       "      <th>did</th>\n",
       "      <td>57</td>\n",
       "    </tr>\n",
       "    <tr>\n",
       "      <th>come</th>\n",
       "      <td>52</td>\n",
       "    </tr>\n",
       "    <tr>\n",
       "      <th>sun</th>\n",
       "      <td>50</td>\n",
       "    </tr>\n",
       "    <tr>\n",
       "      <th>left</th>\n",
       "      <td>50</td>\n",
       "    </tr>\n",
       "    <tr>\n",
       "      <th>skiff</th>\n",
       "      <td>48</td>\n",
       "    </tr>\n",
       "    <tr>\n",
       "      <th>shark</th>\n",
       "      <td>46</td>\n",
       "    </tr>\n",
       "    <tr>\n",
       "      <th>saw</th>\n",
       "      <td>46</td>\n",
       "    </tr>\n",
       "    <tr>\n",
       "      <th>like</th>\n",
       "      <td>46</td>\n",
       "    </tr>\n",
       "    <tr>\n",
       "      <th>knew</th>\n",
       "      <td>45</td>\n",
       "    </tr>\n",
       "    <tr>\n",
       "      <th>hands</th>\n",
       "      <td>44</td>\n",
       "    </tr>\n",
       "    <tr>\n",
       "      <th>eat</th>\n",
       "      <td>44</td>\n",
       "    </tr>\n",
       "    <tr>\n",
       "      <th>good</th>\n",
       "      <td>44</td>\n",
       "    </tr>\n",
       "    <tr>\n",
       "      <th>think</th>\n",
       "      <td>43</td>\n",
       "    </tr>\n",
       "    <tr>\n",
       "      <th>dark</th>\n",
       "      <td>42</td>\n",
       "    </tr>\n",
       "    <tr>\n",
       "      <th>came</th>\n",
       "      <td>41</td>\n",
       "    </tr>\n",
       "  </tbody>\n",
       "</table>\n",
       "</div>"
      ],
      "text/plain": [
       "       count\n",
       "boy       99\n",
       "hand      90\n",
       "great     64\n",
       "head      62\n",
       "did       57\n",
       "come      52\n",
       "sun       50\n",
       "left      50\n",
       "skiff     48\n",
       "shark     46\n",
       "saw       46\n",
       "like      46\n",
       "knew      45\n",
       "hands     44\n",
       "eat       44\n",
       "good      44\n",
       "think     43\n",
       "dark      42\n",
       "came      41"
      ]
     },
     "execution_count": 8,
     "metadata": {},
     "output_type": "execute_result"
    }
   ],
   "source": [
    "cv_dm_clean = cv.fit_transform(book_df['cleantext'])\n",
    "print(cv_dm_clean.shape)\n",
    "names = cv.get_feature_names()   \n",
    "count = np.sum(cv_dm_clean.toarray(), axis = 0)\n",
    "count2 = count.tolist() \n",
    "count_df = pd.DataFrame(count2, index = names, columns = ['count']) \n",
    "count_df.sort_values(['count'], ascending = False)[0:19] "
   ]
  },
  {
   "cell_type": "markdown",
   "metadata": {},
   "source": [
    "# Q1. \n",
    "\n",
    "Write a short description of the context of the dataset in your own words. Specifically, identify what is unique about the dataset or observations in the dataset. Make sure your answer is no longer than four paragraphs, and should at minimum answer these questions:\n",
    "Why did you choose the terms for your replacement dictionary? Give several specific example and explain why you chose to replace each one of them. \n",
    "What other replacements would you consider making, if any? Why or why not? \n",
    "What is the effect of the replacement on your feature space?  Does this make sense? Is it helpful for answering your question?  Why or why not?\n",
    "Audience: technical – fellow data scientists or other technical staff."
   ]
  },
  {
   "cell_type": "markdown",
   "metadata": {},
   "source": [
    "# A1.\n",
    "Write a short description of the context of the dataset in your own words. Specifically, identify what is unique about the dataset or observations in the dataset.\n",
    "The data set comes from the novel \"The Old Man and Sea\" by Ernest Hemingway. The corpus is made up of several documents. Each document corresponds to an individual page from the novel. The unique item about this corpus is that it comes from a well read and well regarded literary work. It is well known and has been critiqued throughout the years. Using this book for text mining and sentiment analysis is a good choice because there is already a significant amount of research behind the novel. Doing sentiment analysis on this book will provide another avenue of research and we will be able to assess our analysis against the established literary criticism and reviews.\n",
    "\n",
    "Why did you choose the terms for your replacement dictionary?\n",
    "The original document came from an online source. The PDF had the url scattered throughout the document. I needed to remove that from the corpus (I replaced it with an empty string) because the url provided no value to me. Due to it being a PDF there were many new line characters. I added an entry in the dictionary to remove the new line symbol with an empty character as well. \n",
    "\n",
    "Give several specific example and explain why you chose to replace each one of them. \n",
    "What other replacements would you consider making, if any? Why or why not? \n",
    "The term \"old man\" appears throughout the book so I replaced those two words with an abbreviation of \"om\". Following the reasoning in class, I replaced \"boat\" with \"boats\" and \"fishes\" with \"fish\". These tokens can be grouped together because they provide the same information for our needs. Grouping them together will allow us to reduce the feature space while still maintaining the right amount of information. \n",
    "\n",
    "What is the effect of the replacement on your feature space?  Does this make sense? Is it helpful for answering your question?  Why or why not?\n",
    "As anticipated, the feature space is reduced by about 80 tokens. This is expected because we removed some tokens completely and for others we grouped them together. This helps us because it is more manageable and we have not lost any important information. For other types of replacements I would try to group character names and nicknames togeter. For example, if the main character is address by his first name, full name, and Mr. Lastname then I would create a dictionary entry to map those tokens to a single token."
   ]
  },
  {
   "cell_type": "markdown",
   "metadata": {},
   "source": [
    "# T2. \n",
    "\n",
    "Create a sentiment dictionary from one of the sources in class or find/create your own (potential bonus points for appropriate creativity). Using your dictionary, create sentiment labels for the text entries in your corpus."
   ]
  },
  {
   "cell_type": "code",
   "execution_count": 39,
   "metadata": {
    "collapsed": false
   },
   "outputs": [
    {
     "name": "stdout",
     "output_type": "stream",
     "text": [
      "abandon => -2\n",
      "abandoned => -2\n",
      "abandons => -2\n",
      "abducted => -2\n",
      "abduction => -2\n",
      "abductions => -2\n",
      "abhor => -3\n",
      "abhorred => -3\n",
      "abhorrent => -3\n",
      "abhors => -3\n",
      "~~~~~~~~~~~~\n",
      "yeah => 1\n",
      "yearning => 1\n",
      "yeees => 2\n",
      "yes => 1\n",
      "youthful => 2\n",
      "yucky => -2\n",
      "yummy => 3\n",
      "zealot => -2\n",
      "zealots => -2\n",
      "zealous => 2\n"
     ]
    },
    {
     "data": {
      "text/plain": [
       "Positive    29\n",
       "Neutral     16\n",
       "Negative     6\n",
       "Name: afinn, dtype: int64"
      ]
     },
     "execution_count": 39,
     "metadata": {},
     "output_type": "execute_result"
    }
   ],
   "source": [
    "afinn = {}\n",
    "for line in open(\"C:/Users/dmdal/OneDrive/Documents/TextMining/Assignment 4/AFINN-111.txt\"):\n",
    "    tt = line.split('\\t')\n",
    "    afinn.update({tt[0]:int(tt[1])})\n",
    "\n",
    "\n",
    "#print(type(afinn), len(afinn))\n",
    "\n",
    "for key, value in sorted(afinn.items())[0:10]:\n",
    "    print(key + \" => \" + str(value))\n",
    "print(\"~~~~~~~~~~~~\")\n",
    "for key, value in sorted(afinn.items())[2467:]:\n",
    "    print(key + \" => \" + str(value))\n",
    "    \n",
    "def afinn_sent(inputstring):\n",
    "    \n",
    "    sentcount =0\n",
    "    for word in inputstring.split():  \n",
    "        if word in afinn:\n",
    "            sentcount = sentcount + afinn[word]\n",
    "            \n",
    "    \n",
    "    if (sentcount < -3):\n",
    "        sentiment = 'Negative'\n",
    "    elif (sentcount >3):\n",
    "        sentiment = 'Positive'\n",
    "    else:\n",
    "        sentiment = 'Neutral'\n",
    "    \n",
    "    return sentiment\n",
    "\n",
    "book_df['afinn'] = book_df.cleantext.apply(lambda x: afinn_sent(x))\n",
    "#print(book_df.iloc[0:10][['cleantext','afinn']])\n",
    "book_df.iloc[25:30][['cleantext','afinn']]\n",
    "#print(book_df.cleantext[25])\n",
    "#print(book_df.afinn[25])\n",
    "book_df.afinn.value_counts()"
   ]
  },
  {
   "cell_type": "markdown",
   "metadata": {},
   "source": [
    "# Q2. \n",
    "\n",
    "Write a short description of how the sentiment analysis was done and what the outcome is. Make sure your answer is no longer than three paragraphs, and should at minimum answer these questions:\n",
    "How is your dictionary structured?  How will this work for your dataset?\n",
    "What measure did you use to determine the sentiment label?  Why?  Do any of the label assignments surprise you? \n",
    "Include a few specific examples of label assignment and how it was determined and why it does or does not make sense.\n",
    "Audience: general – management or non-technical staff."
   ]
  },
  {
   "cell_type": "markdown",
   "metadata": {},
   "source": [
    "# A2.\n",
    "\n",
    "How is your dictionary structured?  How will this work for your dataset?\n",
    "What measure did you use to determine the sentiment label?\n",
    "The dictionary used for the sentiment analysis consisted of a variety of words. Each word is associated with a value. The higher the value the more postive the word is. The more negative a number then it would signal the word is negative. A value of zero means the word is neutral and is neither \"good\" or \"bad\". Each page of the book is compared against the sentiment dictionary and a tally is kept. In general, if there are more postives point for the page then the page is labeled positive, if it is zero then it is neutral, and if it is negative then the page is labeled negative. However, for my sentiment analysis, neutral is between -3 and 3. I used this range because I wanted to determine pages that had a significant amount more positive and negative.\n",
    "\n",
    "Do any of the label assignments surprise you? \n",
    "After reviewing sentiment list at a high level, not many of the items surprise me. The biggest issue that would occur is when these words appear in context of another word. For example, \"conflict\" is a negative word. However, if the complete phrase was \"conflict resolution\" then that would be a more positive sentiment. Over all, the sentiment makes sense and helps us assess the tone of the novel. \n",
    "\n",
    "Page [20] is labeled as positive. However, after reading this page it seems more neutral or even negative based on the context of the passage. Based on the context, tone, and total imagery presented in page 25 is positive and is labeled accurately.\n",
    "\n"
   ]
  },
  {
   "cell_type": "markdown",
   "metadata": {},
   "source": [
    "# T3. \n",
    "\n",
    "Consider a specific outcome you would like to achieve with your sentiment analysis.  That is, determine what sentiment you might want to have assigned to a specific piece of text.  It could be one entry in your corpus, several documents, or the entire corpus. Make changes to the feature space and/or dictionary to achieve that outcome. Show specific results. "
   ]
  },
  {
   "cell_type": "code",
   "execution_count": 40,
   "metadata": {
    "collapsed": false
   },
   "outputs": [
    {
     "name": "stdout",
     "output_type": "stream",
     "text": [
      "abandon => -2\n",
      "abandoned => -2\n",
      "abandons => -2\n",
      "abducted => -2\n",
      "abduction => -2\n",
      "abductions => -2\n",
      "abhor => -3\n",
      "abhorred => -3\n",
      "abhorrent => -3\n",
      "abhors => -3\n",
      "~~~~~~~~~~~~\n",
      "yeah => 1\n",
      "yearning => 1\n",
      "yeees => 2\n",
      "yes => 1\n",
      "youthful => 2\n",
      "yucky => -2\n",
      "yummy => 3\n",
      "zealot => -2\n",
      "zealots => -2\n",
      "zealous => 2\n"
     ]
    },
    {
     "data": {
      "text/plain": [
       "Neutral     25\n",
       "Positive    20\n",
       "Negative     6\n",
       "Name: afinn, dtype: int64"
      ]
     },
     "execution_count": 40,
     "metadata": {},
     "output_type": "execute_result"
    }
   ],
   "source": [
    "afinn = {}\n",
    "for line in open(\"C:/Users/dmdal/OneDrive/Documents/TextMining/Assignment 4/AFINN-111.txt\"):\n",
    "    tt = line.split('\\t')\n",
    "    afinn.update({tt[0]:int(tt[1])})\n",
    "\n",
    "\n",
    "#print(type(afinn), len(afinn))\n",
    "\n",
    "for key, value in sorted(afinn.items())[0:10]:\n",
    "    print(key + \" => \" + str(value))\n",
    "print(\"~~~~~~~~~~~~\")\n",
    "for key, value in sorted(afinn.items())[2467:]:\n",
    "    print(key + \" => \" + str(value))\n",
    "    \n",
    "def afinn_sent(inputstring):\n",
    "    \n",
    "    sentcount =0\n",
    "    for word in inputstring.split():  \n",
    "        if word in afinn:\n",
    "            sentcount = sentcount + afinn[word]\n",
    "            \n",
    "    \n",
    "    if (sentcount < -3):\n",
    "        sentiment = 'Negative'\n",
    "    elif (sentcount >7):\n",
    "        sentiment = 'Positive'\n",
    "    else:\n",
    "        sentiment = 'Neutral'\n",
    "    \n",
    "    return sentiment\n",
    "\n",
    "book_df['afinn'] = book_df.cleantext.apply(lambda x: afinn_sent(x))\n",
    "#print(book_df.iloc[0:10][['cleantext','afinn']])\n",
    "book_df.iloc[25:30][['cleantext','afinn']]\n",
    "#print(book_df.cleantext[25])\n",
    "#print(book_df.afinn[25])\n",
    "\n",
    "book_df.afinn.value_counts()"
   ]
  },
  {
   "cell_type": "markdown",
   "metadata": {},
   "source": [
    "# Q3.  \n",
    "\n",
    "Write a short description of the exercise and the outcome.  Make sure your answer is no longer than three paragraphs, and should at minimum answer these questions:\n",
    "What outcome did you choose?  Why?\n",
    "How did you change the dictionary to achieve that outcome?\n",
    "How would you explain (justify, rationalize) those changes if necessary?\n",
    "Audience: general – management or non-technical staff."
   ]
  },
  {
   "cell_type": "markdown",
   "metadata": {},
   "source": [
    "# A3.\n",
    "\n",
    "I felt that there were many pages that were positive that after being read seemed more neutral. The events happening on the page were just events, not positive or negative. To combat this I changed the requirements for a page to be positive. The results match the expected outcomes. By making it more difficult for a page to be labeled as positive we see a portion of pages have moved from the positive label to neutral.\n",
    "\n",
    "Originally the count of positives were significantly higher than the rest. I would expect literature to be neutral since it is telling a story. By adjusting the requirements for a positive result I am able to balance postive and neutral pages more evenly. This can help us identify more postive events in the story."
   ]
  },
  {
   "cell_type": "markdown",
   "metadata": {},
   "source": [
    "# Q4. \n",
    "\n",
    "Data science is all about finding patterns in the data.  You have just been asked to decide on a pattern before finding it. Write a short description of how the easy or difficult it was to arrive at a predetermined conclusion.  How difficult was it to justify? What are the ethical issues involved, if any? What is your role as a data scientist? \n",
    "Audience: general – management or non-technical staff."
   ]
  },
  {
   "cell_type": "markdown",
   "metadata": {},
   "source": [
    "# A4.\n",
    "\n",
    "I think it is pretty easy to arrive at a predetermined conclusion and there are several examples to support this. One immediate example is confirmation bias. We typically find information that supports our preconceived ideas of the world or model. If we find information that refutes our understanding we are more inclined to critique it and find flaws in the logic. This concern of predetermined conclusions isn't just unique to data science but exists in all sorts of fields. The joke about accountants \"well, what do you want the numbers to equal\" comes to mind. \n",
    "\n",
    "In terms of data science specifically, we see this issue frequently, as pointed out in the book \"Weapons of Math Destruction\". We build a model based on some assumptions and the model turns into a positive feedback loop. A scenario I've been working through recently consists of policing. Let's say we decide to put more police officers in a lower income area because we believe that typically those areas have a higher crimes. If there are more officers in that area then it would most likely end up correlating to a higher amount of arrests. The higher arrests then \"prove\" that lower income areas have more crime so we then allocate more officers to that area and the cycle continues. Depending on what the model is to be used for, the ethical implications can range wildly.\n",
    "\n",
    "Your role as a data scientist, as a scientist in general, is to try to remain as objective as possible and let the data speak for itself. When new models or theories come out it is important to evaluate them for what they are and not get caught up in new trends for the sake of it being something new. Likewise, it is important to remain a constant learner so you do not get stuck in outdated modes of thinking. "
   ]
  }
 ],
 "metadata": {
  "anaconda-cloud": {},
  "kernelspec": {
   "display_name": "Python [default]",
   "language": "python",
   "name": "python3"
  },
  "language_info": {
   "codemirror_mode": {
    "name": "ipython",
    "version": 3
   },
   "file_extension": ".py",
   "mimetype": "text/x-python",
   "name": "python",
   "nbconvert_exporter": "python",
   "pygments_lexer": "ipython3",
   "version": "3.5.2"
  }
 },
 "nbformat": 4,
 "nbformat_minor": 1
}
