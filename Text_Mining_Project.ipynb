{
 "cells": [
  {
   "cell_type": "code",
   "execution_count": 1,
   "metadata": {
    "collapsed": true
   },
   "outputs": [],
   "source": [
    "#I'm not sure if all of these need to be included but I am importing them all just to be safe.\n",
    "from __future__ import division\n",
    "import pandas as pd\n",
    "import numpy as np\n",
    "from nltk.stem.porter import PorterStemmer\n",
    "from nltk.stem.lancaster import LancasterStemmer\n",
    "from nltk.stem import SnowballStemmer\n",
    "from nltk.stem import WordNetLemmatizer\n",
    "from nltk.corpus import stopwords\n",
    "import requests\n",
    "from sklearn.feature_extraction.text import CountVectorizer\n",
    "import math\n",
    "from bs4 import BeautifulSoup\n",
    "import requests\n",
    "from nltk.corpus import stopwords\n",
    "from sklearn.feature_extraction import text\n",
    "from sklearn.feature_extraction.text import TfidfVectorizer\n",
    "import PyPDF2"
   ]
  },
  {
   "cell_type": "code",
   "execution_count": 10,
   "metadata": {
    "collapsed": false
   },
   "outputs": [
    {
     "name": "stdout",
     "output_type": "stream",
     "text": [
      "<class 'int'>\n",
      "<class 'list'>\n",
      "<class 'int'>\n",
      "<class 'list'>\n"
     ]
    },
    {
     "name": "stderr",
     "output_type": "stream",
     "text": [
      "PdfReadWarning: Xref table not zero-indexed. ID numbers for objects will be corrected. [pdf.py:1736]\n"
     ]
    },
    {
     "name": "stdout",
     "output_type": "stream",
     "text": [
      "<class 'int'>\n",
      "<class 'list'>\n"
     ]
    }
   ],
   "source": [
    "#Import all books into a list object. \n",
    "#Need to look into creating a function to do this.\n",
    "pathname = 'C:/Users/dmdal/OneDrive/Documents/TextMining/Books_for_Project/'\n",
    "\n",
    "pdf_Hemingway = open(pathname+'Hemingway_OldManSea.pdf','rb')     #'rb' for read binary mode\n",
    "pdfReader = PyPDF2.PdfFileReader(pdf_Hemingway)\n",
    "pages = pdfReader.numPages\n",
    "print(type(pages))\n",
    "hemingway_text = []\n",
    "print(type(hemingway_text))\n",
    "\n",
    "i = 1\n",
    "while i < pages: \n",
    "    pageObj_hemingway = pdfReader.getPage(i)\n",
    "    text= pageObj_hemingway.extractText()\n",
    "    text = [text]\n",
    "    #text = ''.join(row.findAll(text=True)) \n",
    "    #data = [str(text.strip())] \n",
    "    hemingway_text = hemingway_text + text\n",
    "    i = i+1\n",
    "    \n",
    "pdf_Faulkner = open(pathname+'Faulkner_As_I_Lay_Dying.pdf','rb')     #'rb' for read binary mode\n",
    "pdfReader = PyPDF2.PdfFileReader(pdf_Faulkner)\n",
    "pages = pdfReader.numPages\n",
    "print(type(pages))\n",
    "faulkner_text = []\n",
    "print(type(faulkner_text))\n",
    "\n",
    "i = 9\n",
    "while i < pages: \n",
    "    pageObj_faulkner = pdfReader.getPage(i)\n",
    "    text= pageObj_faulkner.extractText()\n",
    "    text = [text]\n",
    "    #text = ''.join(row.findAll(text=True)) \n",
    "    #data = [str(text.strip())] \n",
    "    faulkner_text = faulkner_text + text\n",
    "    i = i+1\n",
    "    \n",
    "pdf_Tolstoy = open(pathname+'Tolstoy_Death_Of_Ivan.pdf','rb')     #'rb' for read binary mode\n",
    "pdfReader = PyPDF2.PdfFileReader(pdf_Tolstoy)\n",
    "pages = pdfReader.numPages\n",
    "print(type(pages))\n",
    "tolstoy_text = []\n",
    "print(type(tolstoy_text))\n",
    "\n",
    "i = 1\n",
    "while i < pages: \n",
    "    pageObj_tolstoy = pdfReader.getPage(i)\n",
    "    text= pageObj_tolstoy.extractText()\n",
    "    text = [text]\n",
    "    #text = ''.join(row.findAll(text=True)) \n",
    "    #data = [str(text.strip())] \n",
    "    tolstoy_text = tolstoy_text + text\n",
    "    i = i+1\n",
    "\n"
   ]
  },
  {
   "cell_type": "code",
   "execution_count": 20,
   "metadata": {
    "collapsed": false
   },
   "outputs": [
    {
     "name": "stdout",
     "output_type": "stream",
     "text": [
      "                                                   0\n",
      "0  The Old Man and the Sea                       ...\n",
      "1  The Old Man and the Sea                       ...\n",
      "2  The Old Man and the Sea                       ...\n",
      "3  The Old Man and the Sea                       ...\n",
      "4  The Old Man and the Sea                       ...\n"
     ]
    }
   ],
   "source": [
    "#Turn each list object into a dataframe.\n",
    "hemingway_df = pd.DataFrame(hemingway_text)\n",
    "faulkner_df = pd.DataFrame(faulkner_text)\n",
    "tolstoy_df = pd.DataFrame(tolstoy_text)\n",
    "\n",
    "#Confirm text has been brought in\n",
    "#print(hemingway_df[0:5])\n",
    "#print(faulkner_df[14])\n",
    "#print(tolstoy_df[14])"
   ]
  },
  {
   "cell_type": "code",
   "execution_count": 23,
   "metadata": {
    "collapsed": false
   },
   "outputs": [
    {
     "name": "stdout",
     "output_type": "stream",
     "text": [
      "(51, 2)\n",
      "(81, 2)\n",
      "(49, 1)\n"
     ]
    }
   ],
   "source": [
    "print(hemingway_df.shape)\n",
    "print(faulkner_df.shape)\n",
    "print(tolstoy_df.shape)\n",
    "\n",
    "hemingway_df['Author']= 'Hemingway'\n",
    "#print(hemingway_df.head)\n",
    "faulkner_df['Author']= 'Faulkner'\n",
    "#print(faulkner_df.head)\n",
    "tolstoy_df['Author']= 'Tolstoy'\n",
    "#print(faulkner_df.head)"
   ]
  },
  {
   "cell_type": "code",
   "execution_count": 25,
   "metadata": {
    "collapsed": false
   },
   "outputs": [
    {
     "name": "stdout",
     "output_type": "stream",
     "text": [
      "(181, 2)\n"
     ]
    }
   ],
   "source": [
    "#Combine books\n",
    "books = [hemingway_df, faulkner_df, tolstoy_df]\n",
    "complete_set = pd.concat(books)\n",
    "print(complete_set.shape)"
   ]
  },
  {
   "cell_type": "code",
   "execution_count": null,
   "metadata": {
    "collapsed": true
   },
   "outputs": [],
   "source": []
  }
 ],
 "metadata": {
  "anaconda-cloud": {},
  "kernelspec": {
   "display_name": "Python [default]",
   "language": "python",
   "name": "python3"
  },
  "language_info": {
   "codemirror_mode": {
    "name": "ipython",
    "version": 3
   },
   "file_extension": ".py",
   "mimetype": "text/x-python",
   "name": "python",
   "nbconvert_exporter": "python",
   "pygments_lexer": "ipython3",
   "version": "3.5.2"
  }
 },
 "nbformat": 4,
 "nbformat_minor": 1
}
