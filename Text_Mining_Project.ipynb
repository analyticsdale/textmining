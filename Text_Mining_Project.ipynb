{
 "cells": [
  {
   "cell_type": "code",
   "execution_count": 1,
   "metadata": {
    "collapsed": true
   },
   "outputs": [],
   "source": [
    "#I'm not sure if all of these need to be included but I am importing them all just to be safe.\n",
    "from __future__ import division\n",
    "import pandas as pd\n",
    "import numpy as np\n",
    "from nltk.stem.porter import PorterStemmer\n",
    "from nltk.stem.lancaster import LancasterStemmer\n",
    "from nltk.stem import SnowballStemmer\n",
    "from nltk.stem import WordNetLemmatizer\n",
    "from nltk.corpus import stopwords\n",
    "import requests\n",
    "from sklearn.feature_extraction.text import CountVectorizer\n",
    "import math\n",
    "from bs4 import BeautifulSoup\n",
    "import requests\n",
    "from nltk.corpus import stopwords\n",
    "from sklearn.feature_extraction import text\n",
    "from sklearn.feature_extraction.text import TfidfVectorizer\n",
    "import PyPDF2"
   ]
  },
  {
   "cell_type": "code",
   "execution_count": 10,
   "metadata": {
    "collapsed": false
   },
   "outputs": [
    {
     "name": "stdout",
     "output_type": "stream",
     "text": [
      "<class 'int'>\n",
      "<class 'list'>\n",
      "<class 'int'>\n",
      "<class 'list'>\n"
     ]
    },
    {
     "name": "stderr",
     "output_type": "stream",
     "text": [
      "PdfReadWarning: Xref table not zero-indexed. ID numbers for objects will be corrected. [pdf.py:1736]\n"
     ]
    },
    {
     "name": "stdout",
     "output_type": "stream",
     "text": [
      "<class 'int'>\n",
      "<class 'list'>\n"
     ]
    }
   ],
   "source": [
    "#Import all books into a list object. \n",
    "#Need to look into creating a function to do this.\n",
    "pathname = 'C:/Users/dmdal/OneDrive/Documents/TextMining/Books_for_Project/'\n",
    "\n",
    "pdf_Hemingway = open(pathname+'Hemingway_OldManSea.pdf','rb')     #'rb' for read binary mode\n",
    "pdfReader = PyPDF2.PdfFileReader(pdf_Hemingway)\n",
    "pages = pdfReader.numPages\n",
    "print(type(pages))\n",
    "hemingway_text = []\n",
    "print(type(hemingway_text))\n",
    "\n",
    "i = 1\n",
    "while i < pages: \n",
    "    pageObj_hemingway = pdfReader.getPage(i)\n",
    "    text= pageObj_hemingway.extractText()\n",
    "    text = [text]\n",
    "    #text = ''.join(row.findAll(text=True)) \n",
    "    #data = [str(text.strip())] \n",
    "    hemingway_text = hemingway_text + text\n",
    "    i = i+1\n",
    "    \n",
    "pdf_Faulkner = open(pathname+'Faulkner_As_I_Lay_Dying.pdf','rb')     #'rb' for read binary mode\n",
    "pdfReader = PyPDF2.PdfFileReader(pdf_Faulkner)\n",
    "pages = pdfReader.numPages\n",
    "print(type(pages))\n",
    "faulkner_text = []\n",
    "print(type(faulkner_text))\n",
    "\n",
    "i = 9\n",
    "while i < pages: \n",
    "    pageObj_faulkner = pdfReader.getPage(i)\n",
    "    text= pageObj_faulkner.extractText()\n",
    "    text = [text]\n",
    "    #text = ''.join(row.findAll(text=True)) \n",
    "    #data = [str(text.strip())] \n",
    "    faulkner_text = faulkner_text + text\n",
    "    i = i+1\n",
    "    \n",
    "pdf_Tolstoy = open(pathname+'Tolstoy_Death_Of_Ivan.pdf','rb')     #'rb' for read binary mode\n",
    "pdfReader = PyPDF2.PdfFileReader(pdf_Tolstoy)\n",
    "pages = pdfReader.numPages\n",
    "print(type(pages))\n",
    "tolstoy_text = []\n",
    "print(type(tolstoy_text))\n",
    "\n",
    "i = 1\n",
    "while i < pages: \n",
    "    pageObj_tolstoy = pdfReader.getPage(i)\n",
    "    text= pageObj_tolstoy.extractText()\n",
    "    text = [text]\n",
    "    #text = ''.join(row.findAll(text=True)) \n",
    "    #data = [str(text.strip())] \n",
    "    tolstoy_text = tolstoy_text + text\n",
    "    i = i+1\n",
    "    \n",
    "pdf_Hemingway2 = open(pathname+'Hemingway_TheSunAlsoRises.pdf','rb')     #'rb' for read binary mode\n",
    "pdfReader = PyPDF2.PdfFileReader(pdf_Hemingway2)\n",
    "pages = pdfReader.numPages\n",
    "print(type(pages))\n",
    "hemingway_text2 = []\n",
    "print(type(hemingway_text2))\n",
    "\n",
    "i = 3\n",
    "while i < pages: \n",
    "    pageObj_hemingway = pdfReader.getPage(i)\n",
    "    text= pageObj_hemingway.extractText()\n",
    "    text = [text]\n",
    "    #text = ''.join(row.findAll(text=True)) \n",
    "    #data = [str(text.strip())] \n",
    "    hemingway_text2 = hemingway_text2 + text\n",
    "    i = i+1\n",
    "    \n",
    "pdf_Faulkner2 = open(pathname+'Faulkner_light_in_august.pdf','rb')     #'rb' for read binary mode\n",
    "pdfReader = PyPDF2.PdfFileReader(pdf_Faulkner2)\n",
    "pages = pdfReader.numPages\n",
    "print(type(pages))\n",
    "faulkner_text2 = []\n",
    "print(type(faulkner_text2))\n",
    "\n",
    "i = 5\n",
    "while i < pages: \n",
    "    pageObj_faulkner = pdfReader.getPage(i)\n",
    "    text= pageObj_faulkner.extractText()\n",
    "    text = [text]\n",
    "    #text = ''.join(row.findAll(text=True)) \n",
    "    #data = [str(text.strip())] \n",
    "    faulkner_text2 = faulkner_text2 + text\n",
    "    i = i+1\n",
    "    \n",
    "pdf_Tolstoy2 = open(pathname+'Tolstoy_Master_and_Man.pdf','rb')     #'rb' for read binary mode\n",
    "pdfReader = PyPDF2.PdfFileReader(pdf_Tolstoy2)\n",
    "pages = pdfReader.numPages\n",
    "print(type(pages))\n",
    "tolstoy_text2 = []\n",
    "print(type(tolstoy_text2))\n",
    "\n",
    "i = 2\n",
    "while i < pages: \n",
    "    pageObj_tolstoy = pdfReader.getPage(i)\n",
    "    text= pageObj_tolstoy.extractText()\n",
    "    text = [text]\n",
    "    #text = ''.join(row.findAll(text=True)) \n",
    "    #data = [str(text.strip())] \n",
    "    tolstoy_text2 = tolstoy_text2 + text\n",
    "    i = i+1\n",
    "    \n",
    "pdf_Austen = open(pathname+'Austen_Persuasion.pdf','rb')     #'rb' for read binary mode\n",
    "pdfReader = PyPDF2.PdfFileReader(pdf_Austen)\n",
    "pages = pdfReader.numPages\n",
    "print(type(pages))\n",
    "austen_text = []\n",
    "print(type(austen_text))\n",
    "\n",
    "i = 3\n",
    "while i < pages: \n",
    "    pageObj_austen = pdfReader.getPage(i)\n",
    "    text= pageObj_austen.extractText()\n",
    "    text = [text]\n",
    "    #text = ''.join(row.findAll(text=True)) \n",
    "    #data = [str(text.strip())] \n",
    "    austen_text = austen_text + text\n",
    "    i = i+1\n",
    "    \n",
    "pdf_Austen2 = open(pathname+'Austen_Pride_Prejudice.pdf','rb')     #'rb' for read binary mode\n",
    "pdfReader = PyPDF2.PdfFileReader(pdf_Austen2)\n",
    "pages = pdfReader.numPages\n",
    "print(type(pages))\n",
    "austen_text2 = []\n",
    "print(type(austen_text2))\n",
    "\n",
    "i = 3\n",
    "while i < pages: \n",
    "    pageObj_austen = pdfReader.getPage(i)\n",
    "    text= pageObj_austen.extractText()\n",
    "    text = [text]\n",
    "    #text = ''.join(row.findAll(text=True)) \n",
    "    #data = [str(text.strip())] \n",
    "    austen_text2 = austen_text2 + text\n",
    "    i = i+1\n",
    "\n",
    "pdf_Tolstoy3 = open(pathname+'Tolstoy_on_Shakespeare.pdf','rb')     #'rb' for read binary mode\n",
    "pdfReader = PyPDF2.PdfFileReader(pdf_Tolstoy3)\n",
    "pages = pdfReader.numPages\n",
    "print(type(pages))\n",
    "tolstoy_text3 = []\n",
    "print(type(tolstoy_text3))\n",
    "\n",
    "i = 3\n",
    "while i < pages: \n",
    "    pageObj_tolstoy = pdfReader.getPage(i)\n",
    "    text= pageObj_tolstoy.extractText()\n",
    "    text = [text]\n",
    "    #text = ''.join(row.findAll(text=True)) \n",
    "    #data = [str(text.strip())] \n",
    "    tolstoy_text3 = tolstoy_text3 + text\n",
    "    i = i+1\n",
    "\n"
   ]
  },
  {
   "cell_type": "code",
   "execution_count": 20,
   "metadata": {
    "collapsed": false
   },
   "outputs": [
    {
     "name": "stdout",
     "output_type": "stream",
     "text": [
      "                                                   0\n",
      "0  The Old Man and the Sea                       ...\n",
      "1  The Old Man and the Sea                       ...\n",
      "2  The Old Man and the Sea                       ...\n",
      "3  The Old Man and the Sea                       ...\n",
      "4  The Old Man and the Sea                       ...\n"
     ]
    }
   ],
   "source": [
    "#Turn each list object into a dataframe.\n",
    "hemingway_df = pd.DataFrame(hemingway_text)\n",
    "faulkner_df = pd.DataFrame(faulkner_text)\n",
    "tolstoy_df = pd.DataFrame(tolstoy_text)\n",
    "hemingway_df2 = pd.DataFrame(hemingway_text2)\n",
    "faulkner_df2 = pd.DataFrame(faulkner_text2)\n",
    "tolstoy_df2 = pd.DataFrame(tolstoy_text2)\n",
    "austen_df = pd.DataFrame(austen_text)\n",
    "austen_df2 = pd.DataFrame(austen_text2)\n",
    "tolstoy_df3 = pd.DataFrame(tolstoy_text3)\n",
    "\n",
    "#Confirm text has been brought in\n",
    "#print(hemingway_df[0:5])\n",
    "#print(faulkner_df[14])\n",
    "#print(tolstoy_df[14])"
   ]
  },
  {
   "cell_type": "code",
   "execution_count": 23,
   "metadata": {
    "collapsed": false
   },
   "outputs": [
    {
     "name": "stdout",
     "output_type": "stream",
     "text": [
      "(51, 2)\n",
      "(81, 2)\n",
      "(49, 1)\n"
     ]
    }
   ],
   "source": [
    "print(hemingway_df.shape)\n",
    "print(faulkner_df.shape)\n",
    "print(tolstoy_df.shape)\n",
    "print(austen_df.shape)\n",
    "print(hemingway_df2.shape)\n",
    "print(faulkner_df2.shape)\n",
    "print(tolstoy_df2.shape)\n",
    "print(austen_df2.shape)\n",
    "print(tolstoy_df3.shape)\n",
    "\n",
    "hemingway_df['Author']= 'Hemingway'\n",
    "#print(hemingway_df.head)\n",
    "faulkner_df['Author']= 'Faulkner'\n",
    "#print(faulkner_df.head)\n",
    "tolstoy_df['Author']= 'Tolstoy'\n",
    "#print(faulkner_df.head)\n",
    "hemingway_df2['Author']= 'Hemingway'\n",
    "#print(hemingway_df.head)\n",
    "faulkner_df2['Author']= 'Faulkner'\n",
    "#print(faulkner_df.head)\n",
    "tolstoy_df2['Author']= 'Tolstoy'\n",
    "#print(faulkner_df.head)\n",
    "austen_df['Author']= 'Austen'\n",
    "#print(faulkner_df.head)\n",
    "austen_df2['Author']= 'Austen'\n",
    "#print(faulkner_df.head)\n",
    "tolstoy_df3['Author']= 'Tolstoy'\n",
    "#print(faulkner_df.head)"
   ]
  },
  {
   "cell_type": "code",
   "execution_count": 25,
   "metadata": {
    "collapsed": false
   },
   "outputs": [
    {
     "name": "stdout",
     "output_type": "stream",
     "text": [
      "(181, 2)\n"
     ]
    }
   ],
   "source": [
    "#Combine books\n",
    "books = [hemingway_df, faulkner_df, tolstoy_df, austen_df,hemingway_df2, faulkner_df2, tolstoy_df2, austen_df2, tolstoy_df3]\n",
    "complete_set = pd.concat(books)\n",
    "print(complete_set.shape)\n",
    "list(complete_set)\n",
    "complete_set['OrigText'] = complete_set[0]\n",
    "print(complete_set.shape)"
   ]
  },
  {
   "cell_type": "code",
   "execution_count": null,
   "metadata": {
    "collapsed": true
   },
   "outputs": [],
   "source": []
  }
 ],
 "metadata": {
  "anaconda-cloud": {},
  "kernelspec": {
   "display_name": "Python [default]",
   "language": "python",
   "name": "python3"
  },
  "language_info": {
   "codemirror_mode": {
    "name": "ipython",
    "version": 3
   },
   "file_extension": ".py",
   "mimetype": "text/x-python",
   "name": "python",
   "nbconvert_exporter": "python",
   "pygments_lexer": "ipython3",
   "version": "3.5.2"
  }
 },
 "nbformat": 4,
 "nbformat_minor": 1
}
